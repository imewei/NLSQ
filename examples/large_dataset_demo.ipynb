{
 "cells": [
  {
   "cell_type": "markdown",
   "metadata": {},
   "source": [
    "# NLSQ Large Dataset Fitting Demonstration\n",
    "\n",
    "[![Open In Colab](https://colab.research.google.com/assets/colab-badge.svg)](https://colab.research.google.com/github/imewei/NLSQ/blob/main/examples/large_dataset_demo.ipynb)\n",
    "\n",
    "**Requirements:** Python 3.12 or higher\n",
    "\n",
    "This notebook demonstrates the capabilities of NLSQ for handling very large datasets with automatic memory management, chunking, and sampling strategies.\n",
    "\n",
    "## Key Features:\n",
    "- Memory estimation for datasets from 100K to 100M+ points\n",
    "- Automatic chunking for datasets that don't fit in memory\n",
    "- Sampling strategies for extremely large datasets\n",
    "- Progress reporting for long-running fits\n",
    "- Memory-aware optimization\n",
    "- Advanced configuration management with context managers"
   ]
  },
  {
   "cell_type": "markdown",
   "metadata": {},
   "source": [
    "## Setup and Imports"
   ]
  },
  {
   "cell_type": "code",
   "execution_count": 1,
   "metadata": {
    "execution": {
     "iopub.execute_input": "2025-10-08T19:57:37.112474Z",
     "iopub.status.busy": "2025-10-08T19:57:37.112338Z",
     "iopub.status.idle": "2025-10-08T19:57:37.736577Z",
     "shell.execute_reply": "2025-10-08T19:57:37.736230Z"
    }
   },
   "outputs": [
    {
     "name": "stdout",
     "output_type": "stream",
     "text": [
      "✅ Python 3.12 meets requirements\n"
     ]
    },
    {
     "name": "stdout",
     "output_type": "stream",
     "text": [
      "NLSQ version: 0.1.0.post66\n",
      "NLSQ Large Dataset Demo - Enhanced Version\n",
      "Including advanced memory management and algorithm selection\n"
     ]
    }
   ],
   "source": [
    "#!/usr/bin/env python3\n",
    "\"\"\"\n",
    "Demonstration of NLSQ Large Dataset Fitting Capabilities with Advanced Features\n",
    "\"\"\"\n",
    "\n",
    "# Check Python version\n",
    "import sys\n",
    "\n",
    "print(f\"✅ Python {sys.version_info.major}.{sys.version_info.minor} meets requirements\")\n",
    "\n",
    "import time\n",
    "\n",
    "import jax.numpy as jnp\n",
    "import numpy as np\n",
    "\n",
    "from nlsq import (\n",
    "    AlgorithmSelector,\n",
    "    CurveFit,\n",
    "    LargeDatasetConfig,\n",
    "    LargeDatasetFitter,\n",
    "    LDMemoryConfig,\n",
    "    # New advanced features\n",
    "    MemoryConfig,\n",
    "    __version__,\n",
    "    auto_select_algorithm,\n",
    "    configure_for_large_datasets,\n",
    "    curve_fit_large,\n",
    "    estimate_memory_requirements,\n",
    "    fit_large_dataset,\n",
    "    get_memory_config,\n",
    "    large_dataset_context,\n",
    "    memory_context,\n",
    "    set_memory_limits,\n",
    ")\n",
    "\n",
    "print(f\"NLSQ version: {__version__}\")\n",
    "print(\"NLSQ Large Dataset Demo - Enhanced Version\")\n",
    "print(\"Including advanced memory management and algorithm selection\")\n",
    "\n",
    "\n",
    "# Define our model functions\n",
    "def exponential_decay(x, a, b, c):\n",
    "    \"\"\"Exponential decay model with offset: y = a * exp(-b * x) + c\"\"\"\n",
    "    return a * jnp.exp(-b * x) + c\n",
    "\n",
    "\n",
    "def polynomial_model(x, a, b, c, d):\n",
    "    \"\"\"Polynomial model: y = a*x^3 + b*x^2 + c*x + d\"\"\"\n",
    "    return a * x**3 + b * x**2 + c * x + d\n",
    "\n",
    "\n",
    "def gaussian(x, a, mu, sigma, offset):\n",
    "    \"\"\"Gaussian model: y = a * exp(-((x - mu)^2) / (2*sigma^2)) + offset\"\"\"\n",
    "    return a * jnp.exp(-((x - mu) ** 2) / (2 * sigma**2)) + offset\n",
    "\n",
    "\n",
    "def complex_model(x, a, b, c, d, e, f):\n",
    "    \"\"\"Complex model with many parameters for algorithm selection testing\"\"\"\n",
    "    return a * jnp.exp(-b * x) + c * jnp.sin(d * x) + e * x**2 + f"
   ]
  },
  {
   "cell_type": "markdown",
   "metadata": {},
   "source": [
    "## 1. Memory Estimation Demo\n",
    "\n",
    "First, let's understand how much memory different dataset sizes require and what processing strategies NLSQ recommends."
   ]
  },
  {
   "cell_type": "code",
   "execution_count": 2,
   "metadata": {
    "execution": {
     "iopub.execute_input": "2025-10-08T19:57:37.738157Z",
     "iopub.status.busy": "2025-10-08T19:57:37.737965Z",
     "iopub.status.idle": "2025-10-08T19:57:37.742322Z",
     "shell.execute_reply": "2025-10-08T19:57:37.741814Z"
    }
   },
   "outputs": [
    {
     "name": "stdout",
     "output_type": "stream",
     "text": [
      "============================================================\n",
      "MEMORY ESTIMATION DEMO\n",
      "============================================================\n",
      "\n",
      "Small dataset (100,000 points, 3 parameters):\n",
      "  Memory estimate: 0.01 GB\n",
      "  Chunk size: 100,000\n",
      "  Number of chunks: 1\n",
      "  Strategy: Single chunk (fits in memory)\n",
      "\n",
      "Medium dataset (1,000,000 points, 3 parameters):\n",
      "  Memory estimate: 0.14 GB\n",
      "  Chunk size: 1,000,000\n",
      "  Number of chunks: 1\n",
      "  Strategy: Single chunk (fits in memory)\n",
      "\n",
      "Large dataset (10,000,000 points, 3 parameters):\n",
      "  Memory estimate: 1.36 GB\n",
      "  Chunk size: 1,000,000\n",
      "  Number of chunks: 10\n",
      "  Strategy: Chunked processing\n",
      "\n",
      "Very large dataset (50,000,000 points, 3 parameters):\n",
      "  Memory estimate: 6.80 GB\n",
      "  Chunk size: 1,000,000\n",
      "  Number of chunks: 50\n",
      "  Strategy: Chunked processing\n",
      "\n",
      "Extremely large dataset (100,000,000 points, 3 parameters):\n",
      "  Memory estimate: 13.60 GB\n",
      "  Chunk size: 1,000,000\n",
      "  Number of chunks: 100\n",
      "  Strategy: Chunked processing\n"
     ]
    }
   ],
   "source": [
    "def demo_memory_estimation():\n",
    "    \"\"\"Demonstrate memory estimation capabilities.\"\"\"\n",
    "    print(\"=\" * 60)\n",
    "    print(\"MEMORY ESTIMATION DEMO\")\n",
    "    print(\"=\" * 60)\n",
    "\n",
    "    # Estimate requirements for different dataset sizes\n",
    "    test_cases = [\n",
    "        (100_000, 3, \"Small dataset\"),\n",
    "        (1_000_000, 3, \"Medium dataset\"),\n",
    "        (10_000_000, 3, \"Large dataset\"),\n",
    "        (50_000_000, 3, \"Very large dataset\"),\n",
    "        (100_000_000, 3, \"Extremely large dataset\"),\n",
    "    ]\n",
    "\n",
    "    for n_points, n_params, description in test_cases:\n",
    "        stats = estimate_memory_requirements(n_points, n_params)\n",
    "\n",
    "        print(f\"\\n{description} ({n_points:,} points, {n_params} parameters):\")\n",
    "        print(f\"  Memory estimate: {stats.total_memory_estimate_gb:.2f} GB\")\n",
    "        print(f\"  Chunk size: {stats.recommended_chunk_size:,}\")\n",
    "        print(f\"  Number of chunks: {stats.n_chunks}\")\n",
    "\n",
    "        if stats.requires_sampling:\n",
    "            print(\"  Strategy: Sampling recommended\")\n",
    "        elif stats.n_chunks == 1:\n",
    "            print(\"  Strategy: Single chunk (fits in memory)\")\n",
    "        else:\n",
    "            print(\"  Strategy: Chunked processing\")\n",
    "\n",
    "\n",
    "# Run the demo\n",
    "demo_memory_estimation()"
   ]
  },
  {
   "cell_type": "markdown",
   "metadata": {},
   "source": [
    "## 1.5. Advanced Memory Configuration and Algorithm Selection\n",
    "\n",
    "NLSQ now provides sophisticated configuration management and automatic algorithm selection for optimal performance with large datasets."
   ]
  },
  {
   "cell_type": "code",
   "execution_count": 3,
   "metadata": {
    "execution": {
     "iopub.execute_input": "2025-10-08T19:57:37.744146Z",
     "iopub.status.busy": "2025-10-08T19:57:37.743904Z",
     "iopub.status.idle": "2025-10-08T19:57:38.263196Z",
     "shell.execute_reply": "2025-10-08T19:57:38.262801Z"
    }
   },
   "outputs": [
    {
     "name": "stdout",
     "output_type": "stream",
     "text": [
      "============================================================\n",
      "ADVANCED CONFIGURATION & ALGORITHM SELECTION DEMO\n",
      "============================================================\n",
      "Current memory configuration:\n",
      "  Memory limit: 8.0 GB\n",
      "  Mixed precision fallback: True\n",
      "\n",
      "Configuring for large dataset processing...\n",
      "Updated memory limit: 8.0 GB\n",
      "\n",
      "=== Algorithm Selection Demo ===\n",
      "\n",
      "Simple exponential (3 parameters):\n"
     ]
    },
    {
     "name": "stdout",
     "output_type": "stream",
     "text": [
      "  Recommended algorithm: trf\n",
      "  Recommended tolerance: 1e-08\n",
      "  Problem complexity: Unknown\n",
      "  Memory for 1M points: 0.136 GB\n",
      "  Chunking strategy: Not needed\n",
      "\n",
      "Polynomial (4 parameters):\n",
      "  Recommended algorithm: trf\n",
      "  Recommended tolerance: 1e-08\n",
      "  Problem complexity: Unknown\n",
      "  Memory for 1M points: 0.158 GB\n",
      "  Chunking strategy: Not needed\n",
      "\n",
      "Complex multi-param (6 parameters):\n",
      "  Recommended algorithm: trf\n",
      "  Recommended tolerance: 1e-08\n",
      "  Problem complexity: Unknown\n",
      "  Memory for 1M points: 0.203 GB\n",
      "  Chunking strategy: Not needed\n"
     ]
    }
   ],
   "source": [
    "def demo_advanced_configuration():\n",
    "    \"\"\"Demonstrate advanced configuration and algorithm selection.\"\"\"\n",
    "    print(\"=\" * 60)\n",
    "    print(\"ADVANCED CONFIGURATION & ALGORITHM SELECTION DEMO\")\n",
    "    print(\"=\" * 60)\n",
    "\n",
    "    # Current memory configuration\n",
    "    current_config = get_memory_config()\n",
    "    print(\"Current memory configuration:\")\n",
    "    print(f\"  Memory limit: {current_config.memory_limit_gb} GB\")\n",
    "    print(\n",
    "        f\"  Mixed precision fallback: {current_config.enable_mixed_precision_fallback}\"\n",
    "    )\n",
    "\n",
    "    # Automatically configure for large datasets\n",
    "    print(\"\\nConfiguring for large dataset processing...\")\n",
    "    configure_for_large_datasets(\n",
    "        memory_limit_gb=8.0, enable_sampling=True, enable_chunking=True\n",
    "    )\n",
    "\n",
    "    # Show updated configuration\n",
    "    new_config = get_memory_config()\n",
    "    print(f\"Updated memory limit: {new_config.memory_limit_gb} GB\")\n",
    "\n",
    "    # Generate test dataset for algorithm selection\n",
    "    print(\"\\n=== Algorithm Selection Demo ===\")\n",
    "    np.random.seed(42)\n",
    "\n",
    "    # Test different model complexities\n",
    "    test_cases = [\n",
    "        (\"Simple exponential\", exponential_decay, 3, [5.0, 1.2, 0.5]),\n",
    "        (\"Polynomial\", polynomial_model, 4, [0.1, -0.5, 2.0, 1.0]),\n",
    "        (\"Complex multi-param\", complex_model, 6, [3.0, 0.8, 1.5, 2.0, 0.1, 0.2]),\n",
    "    ]\n",
    "\n",
    "    for model_name, model_func, n_params, true_params in test_cases:\n",
    "        print(f\"\\n{model_name} ({n_params} parameters):\")\n",
    "\n",
    "        # Generate sample data\n",
    "        n_sample = 10000  # Smaller sample for algorithm analysis\n",
    "        x_sample = np.linspace(0, 5, n_sample)\n",
    "        y_sample = model_func(x_sample, *true_params) + np.random.normal(\n",
    "            0, 0.05, n_sample\n",
    "        )\n",
    "\n",
    "        # Get algorithm recommendation\n",
    "        try:\n",
    "            recommendations = auto_select_algorithm(model_func, x_sample, y_sample)\n",
    "\n",
    "            print(f\"  Recommended algorithm: {recommendations['algorithm']}\")\n",
    "            print(f\"  Recommended tolerance: {recommendations['ftol']}\")\n",
    "            print(\n",
    "                f\"  Problem complexity: {recommendations.get('complexity', 'Unknown')}\"\n",
    "            )\n",
    "\n",
    "            # Estimate memory for full dataset\n",
    "            large_n = 1_000_000  # 1M points\n",
    "            stats = estimate_memory_requirements(large_n, n_params)\n",
    "            print(f\"  Memory for 1M points: {stats.total_memory_estimate_gb:.3f} GB\")\n",
    "            print(\n",
    "                f\"  Chunking strategy: {'Required' if stats.n_chunks > 1 else 'Not needed'}\"\n",
    "            )\n",
    "        except Exception as e:\n",
    "            print(f\"  Algorithm selection failed: {e}\")\n",
    "            print(f\"  Using default settings for {model_name}\")\n",
    "\n",
    "\n",
    "# Run the demo\n",
    "demo_advanced_configuration()"
   ]
  },
  {
   "cell_type": "markdown",
   "metadata": {},
   "source": [
    "## 2. Basic Large Dataset Fitting\n",
    "\n",
    "Let's demonstrate fitting a 1 million point dataset using the convenience function `fit_large_dataset`."
   ]
  },
  {
   "cell_type": "code",
   "execution_count": 4,
   "metadata": {
    "execution": {
     "iopub.execute_input": "2025-10-08T19:57:38.264655Z",
     "iopub.status.busy": "2025-10-08T19:57:38.264480Z",
     "iopub.status.idle": "2025-10-08T19:57:39.411201Z",
     "shell.execute_reply": "2025-10-08T19:57:39.410806Z"
    }
   },
   "outputs": [
    {
     "name": "stderr",
     "output_type": "stream",
     "text": [
      "INFO:nlsq.nlsq.large_dataset:Dataset analysis for 1,000,000 points, 3 parameters:\n"
     ]
    },
    {
     "name": "stderr",
     "output_type": "stream",
     "text": [
      "INFO:nlsq.nlsq.large_dataset:  Estimated memory per point: 146.0 bytes\n"
     ]
    },
    {
     "name": "stderr",
     "output_type": "stream",
     "text": [
      "INFO:nlsq.nlsq.large_dataset:  Total memory estimate: 0.14 GB\n"
     ]
    },
    {
     "name": "stderr",
     "output_type": "stream",
     "text": [
      "INFO:nlsq.nlsq.large_dataset:  Recommended chunk size: 1,000,000\n"
     ]
    },
    {
     "name": "stderr",
     "output_type": "stream",
     "text": [
      "INFO:nlsq.nlsq.large_dataset:  Number of chunks: 1\n"
     ]
    },
    {
     "name": "stderr",
     "output_type": "stream",
     "text": [
      "INFO:nlsq.nlsq.large_dataset:Fitting dataset in single chunk\n"
     ]
    },
    {
     "name": "stderr",
     "output_type": "stream",
     "text": [
      "INFO:nlsq.curve_fit:Starting curve fit | {'n_params': 3, 'n_data_points': 1000000, 'method': 'trf', 'solver': 'auto', 'batch_size': None, 'has_bounds': False, 'dynamic_sizing': False}\n"
     ]
    },
    {
     "name": "stderr",
     "output_type": "stream",
     "text": [
      "INFO:nlsq.least_squares:Starting least squares optimization | {'method': 'trf', 'n_params': 3, 'loss': 'linear', 'ftol': 1e-08, 'xtol': 1e-08, 'gtol': 1e-08}\n"
     ]
    },
    {
     "name": "stdout",
     "output_type": "stream",
     "text": [
      "\n",
      "============================================================\n",
      "BASIC LARGE DATASET FITTING DEMO\n",
      "============================================================\n",
      "Generating 1M point exponential decay dataset...\n",
      "Dataset: 1,000,000 points\n",
      "True parameters: a=5.0, b=1.2, c=0.5\n",
      "\n",
      "Fitting with automatic memory management...\n"
     ]
    },
    {
     "name": "stderr",
     "output_type": "stream",
     "text": [
      "INFO:nlsq.optimizer.trf:Starting TRF optimization (no bounds) | {'n_params': 3, 'n_residuals': 1000000, 'max_nfev': None}\n"
     ]
    },
    {
     "name": "stderr",
     "output_type": "stream",
     "text": [
      "PERFORMANCE:nlsq.optimizer.trf:Optimization: iter=0 | cost=3.338895e+04 | ‖∇f‖=1.365785e+05 | nfev=1\n"
     ]
    },
    {
     "name": "stderr",
     "output_type": "stream",
     "text": [
      "PERFORMANCE:nlsq.optimizer.trf:Optimization: iter=1 | cost=1.451362e+03 | ‖∇f‖=1.161946e+04 | step=4.142463e+00 | nfev=2\n"
     ]
    },
    {
     "name": "stderr",
     "output_type": "stream",
     "text": [
      "PERFORMANCE:nlsq.optimizer.trf:Optimization: iter=2 | cost=1.250606e+03 | ‖∇f‖=4.699238e+02 | step=4.142463e+00 | nfev=3\n"
     ]
    },
    {
     "name": "stderr",
     "output_type": "stream",
     "text": [
      "PERFORMANCE:nlsq.optimizer.trf:Optimization: iter=3 | cost=1.250468e+03 | ‖∇f‖=1.148351e-01 | step=4.142463e+00 | nfev=4\n"
     ]
    },
    {
     "name": "stderr",
     "output_type": "stream",
     "text": [
      "PERFORMANCE:nlsq.least_squares:Timer: optimization took 0.769576s\n"
     ]
    },
    {
     "name": "stderr",
     "output_type": "stream",
     "text": [
      "INFO:nlsq.least_squares:Convergence: reason=`ftol` termination condition is satisfied. | iterations=None | final_cost=1.250468e+03 | time=0.770s | final_gradient_norm=5.634339999005533e-07\n"
     ]
    },
    {
     "name": "stderr",
     "output_type": "stream",
     "text": [
      "PERFORMANCE:nlsq.curve_fit:Timer: curve_fit took 1.026983s\n"
     ]
    },
    {
     "name": "stderr",
     "output_type": "stream",
     "text": [
      "INFO:nlsq.curve_fit:Curve fit completed | {'total_time': 1.0269832080011838, 'final_cost': 2500.93619980661, 'covariance_warning': False}\n"
     ]
    },
    {
     "name": "stdout",
     "output_type": "stream",
     "text": [
      "\n",
      "✅ Fit completed in 1.11 seconds\n",
      "Fitted parameters: [5.000, 1.200, 0.500]\n",
      "Absolute errors: [0.0002, 0.0000, 0.0001]\n",
      "Relative errors: [0.00%, 0.00%, 0.03%]\n"
     ]
    }
   ],
   "source": [
    "def demo_basic_large_dataset_fitting():\n",
    "    \"\"\"Demonstrate basic large dataset fitting.\"\"\"\n",
    "    print(\"\\n\" + \"=\" * 60)\n",
    "    print(\"BASIC LARGE DATASET FITTING DEMO\")\n",
    "    print(\"=\" * 60)\n",
    "\n",
    "    # Generate synthetic large dataset (1M points)\n",
    "    print(\"Generating 1M point exponential decay dataset...\")\n",
    "    np.random.seed(42)\n",
    "    n_points = 1_000_000\n",
    "    x_data = np.linspace(0, 5, n_points, dtype=np.float64)\n",
    "    true_params = [5.0, 1.2, 0.5]\n",
    "    noise_level = 0.05\n",
    "\n",
    "    y_true = true_params[0] * np.exp(-true_params[1] * x_data) + true_params[2]\n",
    "    y_data = y_true + np.random.normal(0, noise_level, n_points)\n",
    "\n",
    "    print(f\"Dataset: {n_points:,} points\")\n",
    "    print(\n",
    "        f\"True parameters: a={true_params[0]}, b={true_params[1]}, c={true_params[2]}\"\n",
    "    )\n",
    "\n",
    "    # Fit using convenience function\n",
    "    print(\"\\nFitting with automatic memory management...\")\n",
    "    start_time = time.time()\n",
    "\n",
    "    result = fit_large_dataset(\n",
    "        exponential_decay,\n",
    "        x_data,\n",
    "        y_data,\n",
    "        p0=[4.0, 1.0, 0.4],\n",
    "        memory_limit_gb=2.0,  # 2GB limit\n",
    "        show_progress=True,\n",
    "    )\n",
    "\n",
    "    fit_time = time.time() - start_time\n",
    "\n",
    "    if result.success:\n",
    "        fitted_params = np.array(result.popt)\n",
    "        errors = np.abs(fitted_params - np.array(true_params))\n",
    "        rel_errors = errors / np.array(true_params) * 100\n",
    "\n",
    "        print(f\"\\n✅ Fit completed in {fit_time:.2f} seconds\")\n",
    "        print(\n",
    "            f\"Fitted parameters: [{fitted_params[0]:.3f}, {fitted_params[1]:.3f}, {fitted_params[2]:.3f}]\"\n",
    "        )\n",
    "        print(f\"Absolute errors: [{errors[0]:.4f}, {errors[1]:.4f}, {errors[2]:.4f}]\")\n",
    "        print(\n",
    "            f\"Relative errors: [{rel_errors[0]:.2f}%, {rel_errors[1]:.2f}%, {rel_errors[2]:.2f}%]\"\n",
    "        )\n",
    "    else:\n",
    "        print(f\"❌ Fit failed: {result.message}\")\n",
    "\n",
    "\n",
    "# Run the demo\n",
    "demo_basic_large_dataset_fitting()"
   ]
  },
  {
   "cell_type": "markdown",
   "metadata": {},
   "source": [
    "## 3.5. Context Managers and Temporary Configuration\n",
    "\n",
    "NLSQ provides context managers for temporary configuration changes, allowing you to optimize settings for specific operations without affecting global state."
   ]
  },
  {
   "cell_type": "code",
   "execution_count": 5,
   "metadata": {
    "execution": {
     "iopub.execute_input": "2025-10-08T19:57:39.413799Z",
     "iopub.status.busy": "2025-10-08T19:57:39.413623Z",
     "iopub.status.idle": "2025-10-08T19:57:41.775754Z",
     "shell.execute_reply": "2025-10-08T19:57:41.775009Z"
    }
   },
   "outputs": [
    {
     "name": "stderr",
     "output_type": "stream",
     "text": [
      "INFO:nlsq.nlsq.large_dataset:Dataset analysis for 500,000 points, 3 parameters:\n"
     ]
    },
    {
     "name": "stderr",
     "output_type": "stream",
     "text": [
      "INFO:nlsq.nlsq.large_dataset:  Estimated memory per point: 146.0 bytes\n"
     ]
    },
    {
     "name": "stderr",
     "output_type": "stream",
     "text": [
      "INFO:nlsq.nlsq.large_dataset:  Total memory estimate: 0.07 GB\n"
     ]
    },
    {
     "name": "stderr",
     "output_type": "stream",
     "text": [
      "INFO:nlsq.nlsq.large_dataset:  Recommended chunk size: 500,000\n"
     ]
    },
    {
     "name": "stderr",
     "output_type": "stream",
     "text": [
      "INFO:nlsq.nlsq.large_dataset:  Number of chunks: 1\n"
     ]
    },
    {
     "name": "stderr",
     "output_type": "stream",
     "text": [
      "INFO:nlsq.nlsq.large_dataset:Fitting dataset in single chunk\n"
     ]
    },
    {
     "name": "stderr",
     "output_type": "stream",
     "text": [
      "INFO:nlsq.curve_fit:Starting curve fit | {'n_params': 3, 'n_data_points': 500000, 'method': 'trf', 'solver': 'auto', 'batch_size': None, 'has_bounds': False, 'dynamic_sizing': False}\n"
     ]
    },
    {
     "name": "stderr",
     "output_type": "stream",
     "text": [
      "INFO:nlsq.least_squares:Starting least squares optimization | {'method': 'trf', 'n_params': 3, 'loss': 'linear', 'ftol': 1e-08, 'xtol': 1e-08, 'gtol': 1e-08}\n"
     ]
    },
    {
     "name": "stdout",
     "output_type": "stream",
     "text": [
      "\n",
      "============================================================\n",
      "CONTEXT MANAGERS DEMO\n",
      "============================================================\n",
      "Original memory limit: 8.0 GB\n",
      "Test dataset: 500,000 points\n",
      "\n",
      "--- Test 1: Memory-constrained fitting ---\n",
      "Inside context memory limit: 0.5 GB\n",
      "Mixed precision enabled: True\n"
     ]
    },
    {
     "name": "stderr",
     "output_type": "stream",
     "text": [
      "INFO:nlsq.optimizer.trf:Starting TRF optimization (no bounds) | {'n_params': 3, 'n_residuals': 500000, 'max_nfev': None}\n"
     ]
    },
    {
     "name": "stderr",
     "output_type": "stream",
     "text": [
      "PERFORMANCE:nlsq.optimizer.trf:Optimization: iter=0 | cost=3.381814e+03 | ‖∇f‖=2.268377e+04 | nfev=1\n"
     ]
    },
    {
     "name": "stderr",
     "output_type": "stream",
     "text": [
      "PERFORMANCE:nlsq.optimizer.trf:Optimization: iter=1 | cost=6.368694e+02 | ‖∇f‖=6.263187e+02 | step=3.741991e+00 | nfev=2\n"
     ]
    },
    {
     "name": "stderr",
     "output_type": "stream",
     "text": [
      "PERFORMANCE:nlsq.optimizer.trf:Optimization: iter=2 | cost=6.277287e+02 | ‖∇f‖=9.639740e+00 | step=3.741991e+00 | nfev=3\n"
     ]
    },
    {
     "name": "stderr",
     "output_type": "stream",
     "text": [
      "PERFORMANCE:nlsq.optimizer.trf:Optimization: iter=3 | cost=6.277286e+02 | ‖∇f‖=2.729460e-04 | step=3.741991e+00 | nfev=4\n"
     ]
    },
    {
     "name": "stderr",
     "output_type": "stream",
     "text": [
      "PERFORMANCE:nlsq.least_squares:Timer: optimization took 0.431149s\n"
     ]
    },
    {
     "name": "stderr",
     "output_type": "stream",
     "text": [
      "INFO:nlsq.least_squares:Convergence: reason=Both `ftol` and `xtol` termination conditions are satisfied. | iterations=None | final_cost=6.277286e+02 | time=0.431s | final_gradient_norm=1.6682892400865512e-08\n"
     ]
    },
    {
     "name": "stderr",
     "output_type": "stream",
     "text": [
      "PERFORMANCE:nlsq.curve_fit:Timer: curve_fit took 0.655283s\n"
     ]
    },
    {
     "name": "stderr",
     "output_type": "stream",
     "text": [
      "INFO:nlsq.curve_fit:Curve fit completed | {'total_time': 0.6552829270003713, 'final_cost': 1255.4571180397163, 'covariance_warning': False}\n"
     ]
    },
    {
     "name": "stderr",
     "output_type": "stream",
     "text": [
      "INFO:nlsq.nlsq.large_dataset:Dataset analysis for 500,000 points, 3 parameters:\n"
     ]
    },
    {
     "name": "stderr",
     "output_type": "stream",
     "text": [
      "INFO:nlsq.nlsq.large_dataset:  Estimated memory per point: 146.0 bytes\n"
     ]
    },
    {
     "name": "stderr",
     "output_type": "stream",
     "text": [
      "INFO:nlsq.nlsq.large_dataset:  Total memory estimate: 0.07 GB\n"
     ]
    },
    {
     "name": "stderr",
     "output_type": "stream",
     "text": [
      "INFO:nlsq.nlsq.large_dataset:  Recommended chunk size: 500,000\n"
     ]
    },
    {
     "name": "stderr",
     "output_type": "stream",
     "text": [
      "INFO:nlsq.nlsq.large_dataset:  Number of chunks: 1\n"
     ]
    },
    {
     "name": "stderr",
     "output_type": "stream",
     "text": [
      "INFO:nlsq.nlsq.large_dataset:Fitting dataset in single chunk\n"
     ]
    },
    {
     "name": "stderr",
     "output_type": "stream",
     "text": [
      "INFO:nlsq.curve_fit:Starting curve fit | {'n_params': 3, 'n_data_points': 500000, 'method': 'trf', 'solver': 'auto', 'batch_size': None, 'has_bounds': False, 'dynamic_sizing': False}\n"
     ]
    },
    {
     "name": "stderr",
     "output_type": "stream",
     "text": [
      "INFO:nlsq.least_squares:Starting least squares optimization | {'method': 'trf', 'n_params': 3, 'loss': 'linear', 'ftol': 1e-08, 'xtol': 1e-08, 'gtol': 1e-08}\n"
     ]
    },
    {
     "name": "stdout",
     "output_type": "stream",
     "text": [
      "✅ Constrained fit completed: 0.743s\n",
      "   Parameters: [4.00017172 1.49998995 0.29995423]\n",
      "After context memory limit: 8.0 GB\n",
      "\n",
      "--- Test 2: Large dataset optimization ---\n",
      "Inside large dataset context - chunking optimized\n"
     ]
    },
    {
     "name": "stderr",
     "output_type": "stream",
     "text": [
      "INFO:nlsq.optimizer.trf:Starting TRF optimization (no bounds) | {'n_params': 3, 'n_residuals': 500000, 'max_nfev': None}\n"
     ]
    },
    {
     "name": "stderr",
     "output_type": "stream",
     "text": [
      "PERFORMANCE:nlsq.optimizer.trf:Optimization: iter=0 | cost=3.381814e+03 | ‖∇f‖=2.268377e+04 | nfev=1\n"
     ]
    },
    {
     "name": "stderr",
     "output_type": "stream",
     "text": [
      "PERFORMANCE:nlsq.optimizer.trf:Optimization: iter=1 | cost=6.368694e+02 | ‖∇f‖=6.263187e+02 | step=3.741991e+00 | nfev=2\n"
     ]
    },
    {
     "name": "stderr",
     "output_type": "stream",
     "text": [
      "PERFORMANCE:nlsq.optimizer.trf:Optimization: iter=2 | cost=6.277287e+02 | ‖∇f‖=9.639740e+00 | step=3.741991e+00 | nfev=3\n"
     ]
    },
    {
     "name": "stderr",
     "output_type": "stream",
     "text": [
      "PERFORMANCE:nlsq.optimizer.trf:Optimization: iter=3 | cost=6.277286e+02 | ‖∇f‖=2.729460e-04 | step=3.741991e+00 | nfev=4\n"
     ]
    },
    {
     "name": "stderr",
     "output_type": "stream",
     "text": [
      "PERFORMANCE:nlsq.least_squares:Timer: optimization took 0.387000s\n"
     ]
    },
    {
     "name": "stderr",
     "output_type": "stream",
     "text": [
      "INFO:nlsq.least_squares:Convergence: reason=Both `ftol` and `xtol` termination conditions are satisfied. | iterations=None | final_cost=6.277286e+02 | time=0.387s | final_gradient_norm=1.6682892400865512e-08\n"
     ]
    },
    {
     "name": "stderr",
     "output_type": "stream",
     "text": [
      "PERFORMANCE:nlsq.curve_fit:Timer: curve_fit took 0.629118s\n"
     ]
    },
    {
     "name": "stderr",
     "output_type": "stream",
     "text": [
      "INFO:nlsq.curve_fit:Curve fit completed | {'total_time': 0.6291176440008712, 'final_cost': 1255.4571180397163, 'covariance_warning': False}\n"
     ]
    },
    {
     "name": "stderr",
     "output_type": "stream",
     "text": [
      "INFO:nlsq.curve_fit:Starting curve fit | {'n_params': 3, 'n_data_points': 500000, 'method': 'trf', 'solver': 'auto', 'batch_size': None, 'has_bounds': False, 'dynamic_sizing': True}\n"
     ]
    },
    {
     "name": "stderr",
     "output_type": "stream",
     "text": [
      "INFO:nlsq.least_squares:Starting least squares optimization | {'method': 'trf', 'n_params': 3, 'loss': 'linear', 'ftol': 1e-08, 'xtol': 1e-08, 'gtol': 1e-08}\n"
     ]
    },
    {
     "name": "stdout",
     "output_type": "stream",
     "text": [
      "✅ Optimized fit completed: 0.695s\n",
      "   Parameters: [4.00017172 1.49998995 0.29995423]\n",
      "\n",
      "--- Test 3: Algorithm-specific optimization ---\n",
      "Recommended algorithm: trf\n",
      "Recommended tolerance: 1e-08\n"
     ]
    },
    {
     "name": "stderr",
     "output_type": "stream",
     "text": [
      "INFO:nlsq.optimizer.trf:Starting TRF optimization (no bounds) | {'n_params': 3, 'n_residuals': 500000, 'max_nfev': None}\n"
     ]
    },
    {
     "name": "stderr",
     "output_type": "stream",
     "text": [
      "PERFORMANCE:nlsq.optimizer.trf:Optimization: iter=0 | cost=3.381814e+03 | ‖∇f‖=2.268377e+04 | nfev=1\n"
     ]
    },
    {
     "name": "stderr",
     "output_type": "stream",
     "text": [
      "PERFORMANCE:nlsq.optimizer.trf:Optimization: iter=1 | cost=6.368694e+02 | ‖∇f‖=6.263187e+02 | step=3.741991e+00 | nfev=2\n"
     ]
    },
    {
     "name": "stderr",
     "output_type": "stream",
     "text": [
      "PERFORMANCE:nlsq.optimizer.trf:Optimization: iter=2 | cost=6.277287e+02 | ‖∇f‖=9.639740e+00 | step=3.741991e+00 | nfev=3\n"
     ]
    },
    {
     "name": "stderr",
     "output_type": "stream",
     "text": [
      "PERFORMANCE:nlsq.optimizer.trf:Optimization: iter=3 | cost=6.277286e+02 | ‖∇f‖=2.729460e-04 | step=3.741991e+00 | nfev=4\n"
     ]
    },
    {
     "name": "stderr",
     "output_type": "stream",
     "text": [
      "PERFORMANCE:nlsq.least_squares:Timer: optimization took 0.420963s\n"
     ]
    },
    {
     "name": "stderr",
     "output_type": "stream",
     "text": [
      "INFO:nlsq.least_squares:Convergence: reason=Both `ftol` and `xtol` termination conditions are satisfied. | iterations=None | final_cost=6.277286e+02 | time=0.421s | final_gradient_norm=1.6682892400865512e-08\n"
     ]
    },
    {
     "name": "stderr",
     "output_type": "stream",
     "text": [
      "PERFORMANCE:nlsq.curve_fit:Timer: curve_fit took 0.653990s\n"
     ]
    },
    {
     "name": "stderr",
     "output_type": "stream",
     "text": [
      "INFO:nlsq.curve_fit:Curve fit completed | {'total_time': 0.6539900009993289, 'final_cost': 1255.4571180397163, 'covariance_warning': False}\n"
     ]
    },
    {
     "name": "stdout",
     "output_type": "stream",
     "text": [
      "✅ Algorithm-optimized fit completed: 0.722s\n",
      "   Parameters: [4.00017172 1.49998995 0.29995423]\n",
      "   Parameter uncertainties: [0.00038815 0.00025672 0.00010319]\n",
      "\n",
      "=== Performance Comparison ===\n",
      "Constrained memory: 0.743s\n",
      "Chunking optimized: 0.695s\n",
      "Algorithm optimized: 0.722s\n",
      "\n",
      "Accuracy comparison (absolute errors):\n",
      "Constrained: [1.71720945e-04 1.00451087e-05 4.57656340e-05]\n",
      "Chunking:    [1.71720945e-04 1.00451087e-05 4.57656340e-05]\n",
      "Algorithm:   [1.71720945e-04 1.00451087e-05 4.57656340e-05]\n",
      "\n",
      "✓ Context managers allow flexible, temporary configuration changes!\n"
     ]
    }
   ],
   "source": [
    "def demo_context_managers():\n",
    "    \"\"\"Demonstrate context managers for temporary configuration.\"\"\"\n",
    "    print(\"\\n\" + \"=\" * 60)\n",
    "    print(\"CONTEXT MANAGERS DEMO\")\n",
    "    print(\"=\" * 60)\n",
    "\n",
    "    # Show current configuration\n",
    "    original_mem_config = get_memory_config()\n",
    "    print(f\"Original memory limit: {original_mem_config.memory_limit_gb} GB\")\n",
    "\n",
    "    # Generate test data\n",
    "    np.random.seed(555)\n",
    "    n_points = 500_000\n",
    "    x_data = np.linspace(0, 5, n_points)\n",
    "    y_data = exponential_decay(x_data, 4.0, 1.5, 0.3) + np.random.normal(\n",
    "        0, 0.05, n_points\n",
    "    )\n",
    "\n",
    "    print(f\"Test dataset: {n_points:,} points\")\n",
    "\n",
    "    # Test 1: Memory context for memory-constrained fitting\n",
    "    print(\"\\n--- Test 1: Memory-constrained fitting ---\")\n",
    "    constrained_config = MemoryConfig(\n",
    "        memory_limit_gb=0.5,  # Very low limit\n",
    "        enable_mixed_precision_fallback=True,\n",
    "    )\n",
    "\n",
    "    with memory_context(constrained_config):\n",
    "        temp_config = get_memory_config()\n",
    "        print(f\"Inside context memory limit: {temp_config.memory_limit_gb} GB\")\n",
    "        print(f\"Mixed precision enabled: {temp_config.enable_mixed_precision_fallback}\")\n",
    "\n",
    "        start_time = time.time()\n",
    "        result1 = fit_large_dataset(\n",
    "            exponential_decay, x_data, y_data, p0=[3.5, 1.3, 0.25], show_progress=False\n",
    "        )\n",
    "        time1 = time.time() - start_time\n",
    "\n",
    "        if result1.success:\n",
    "            print(f\"✅ Constrained fit completed: {time1:.3f}s\")\n",
    "            print(f\"   Parameters: {result1.popt}\")\n",
    "        else:\n",
    "            print(f\"❌ Constrained fit failed: {result1.message}\")\n",
    "\n",
    "    # Check that configuration is restored\n",
    "    restored_config = get_memory_config()\n",
    "    print(f\"After context memory limit: {restored_config.memory_limit_gb} GB\")\n",
    "\n",
    "    # Test 2: Large dataset context for optimized processing\n",
    "    print(\"\\n--- Test 2: Large dataset optimization ---\")\n",
    "    ld_config = LargeDatasetConfig(\n",
    "        enable_sampling=False,  # Force chunking instead of sampling\n",
    "        max_sampled_size=100_000,\n",
    "        sampling_threshold=1_000_000,\n",
    "    )\n",
    "\n",
    "    with large_dataset_context(ld_config):\n",
    "        print(\"Inside large dataset context - chunking optimized\")\n",
    "\n",
    "        start_time = time.time()\n",
    "        result2 = fit_large_dataset(\n",
    "            exponential_decay, x_data, y_data, p0=[3.5, 1.3, 0.25], show_progress=False\n",
    "        )\n",
    "        time2 = time.time() - start_time\n",
    "\n",
    "        if result2.success:\n",
    "            print(f\"✅ Optimized fit completed: {time2:.3f}s\")\n",
    "            print(f\"   Parameters: {result2.popt}\")\n",
    "        else:\n",
    "            print(f\"❌ Optimized fit failed: {result2.message}\")\n",
    "\n",
    "    # Test 3: Combined context for specific algorithm\n",
    "    print(\"\\n--- Test 3: Algorithm-specific optimization ---\")\n",
    "\n",
    "    # Get algorithm recommendation first\n",
    "    sample_size = 5000\n",
    "    x_sample = x_data[:sample_size]\n",
    "    y_sample = y_data[:sample_size]\n",
    "    recommendations = auto_select_algorithm(exponential_decay, x_sample, y_sample)\n",
    "\n",
    "    print(f\"Recommended algorithm: {recommendations['algorithm']}\")\n",
    "    print(f\"Recommended tolerance: {recommendations['ftol']}\")\n",
    "\n",
    "    # Use CurveFit with recommended settings\n",
    "    optimized_config = MemoryConfig(\n",
    "        memory_limit_gb=2.0, enable_mixed_precision_fallback=True\n",
    "    )\n",
    "\n",
    "    with memory_context(optimized_config):\n",
    "        start_time = time.time()\n",
    "\n",
    "        # Use the regular CurveFit for comparison\n",
    "        cf = CurveFit(use_dynamic_sizing=True)\n",
    "        popt3, pcov3 = cf.curve_fit(\n",
    "            exponential_decay,\n",
    "            x_data,\n",
    "            y_data,\n",
    "            p0=[3.5, 1.3, 0.25],\n",
    "            ftol=recommendations.get(\"ftol\", 1e-8),\n",
    "        )\n",
    "        time3 = time.time() - start_time\n",
    "\n",
    "        print(f\"✅ Algorithm-optimized fit completed: {time3:.3f}s\")\n",
    "        print(f\"   Parameters: {popt3}\")\n",
    "        print(f\"   Parameter uncertainties: {np.sqrt(np.diag(pcov3))}\")\n",
    "\n",
    "    # Compare all approaches\n",
    "    if result1.success and result2.success:\n",
    "        print(\"\\n=== Performance Comparison ===\")\n",
    "        print(f\"Constrained memory: {time1:.3f}s\")\n",
    "        print(f\"Chunking optimized: {time2:.3f}s\")\n",
    "        print(f\"Algorithm optimized: {time3:.3f}s\")\n",
    "\n",
    "        # Calculate accuracy\n",
    "        true_params = [4.0, 1.5, 0.3]\n",
    "        errors1 = np.abs(result1.popt - true_params)\n",
    "        errors2 = np.abs(result2.popt - true_params)\n",
    "        errors3 = np.abs(popt3 - true_params)\n",
    "\n",
    "        print(\"\\nAccuracy comparison (absolute errors):\")\n",
    "        print(f\"Constrained: {errors1}\")\n",
    "        print(f\"Chunking:    {errors2}\")\n",
    "        print(f\"Algorithm:   {errors3}\")\n",
    "\n",
    "    print(\"\\n✓ Context managers allow flexible, temporary configuration changes!\")\n",
    "\n",
    "\n",
    "# Run the demo\n",
    "demo_context_managers()"
   ]
  },
  {
   "cell_type": "markdown",
   "metadata": {},
   "source": [
    "## 3. Chunked Processing Demo\n",
    "\n",
    "For datasets that don't fit in memory, NLSQ automatically chunks the data and processes it in batches."
   ]
  },
  {
   "cell_type": "code",
   "execution_count": 6,
   "metadata": {
    "execution": {
     "iopub.execute_input": "2025-10-08T19:57:41.779053Z",
     "iopub.status.busy": "2025-10-08T19:57:41.778863Z",
     "iopub.status.idle": "2025-10-08T19:57:42.992519Z",
     "shell.execute_reply": "2025-10-08T19:57:42.992137Z"
    }
   },
   "outputs": [
    {
     "name": "stderr",
     "output_type": "stream",
     "text": [
      "INFO:nlsq.nlsq.large_dataset:Dataset analysis for 2,000,000 points, 4 parameters:\n"
     ]
    },
    {
     "name": "stderr",
     "output_type": "stream",
     "text": [
      "INFO:nlsq.nlsq.large_dataset:  Estimated memory per point: 170.0 bytes\n"
     ]
    },
    {
     "name": "stderr",
     "output_type": "stream",
     "text": [
      "INFO:nlsq.nlsq.large_dataset:  Total memory estimate: 0.32 GB\n"
     ]
    },
    {
     "name": "stderr",
     "output_type": "stream",
     "text": [
      "INFO:nlsq.nlsq.large_dataset:  Recommended chunk size: 1,000,000\n"
     ]
    },
    {
     "name": "stderr",
     "output_type": "stream",
     "text": [
      "INFO:nlsq.nlsq.large_dataset:  Number of chunks: 2\n"
     ]
    },
    {
     "name": "stderr",
     "output_type": "stream",
     "text": [
      "INFO:nlsq.nlsq.large_dataset:Dataset analysis for 2,000,000 points, 4 parameters:\n"
     ]
    },
    {
     "name": "stderr",
     "output_type": "stream",
     "text": [
      "INFO:nlsq.nlsq.large_dataset:  Estimated memory per point: 170.0 bytes\n"
     ]
    },
    {
     "name": "stderr",
     "output_type": "stream",
     "text": [
      "INFO:nlsq.nlsq.large_dataset:  Total memory estimate: 0.32 GB\n"
     ]
    },
    {
     "name": "stderr",
     "output_type": "stream",
     "text": [
      "INFO:nlsq.nlsq.large_dataset:  Recommended chunk size: 1,000,000\n"
     ]
    },
    {
     "name": "stderr",
     "output_type": "stream",
     "text": [
      "INFO:nlsq.nlsq.large_dataset:  Number of chunks: 2\n"
     ]
    },
    {
     "name": "stderr",
     "output_type": "stream",
     "text": [
      "INFO:nlsq.nlsq.large_dataset:Fitting dataset using 2 chunks\n"
     ]
    },
    {
     "name": "stderr",
     "output_type": "stream",
     "text": [
      "INFO:nlsq.curve_fit:Starting curve fit | {'n_params': 4, 'n_data_points': 1000000, 'method': 'trf', 'solver': 'auto', 'batch_size': None, 'has_bounds': False, 'dynamic_sizing': False}\n"
     ]
    },
    {
     "name": "stderr",
     "output_type": "stream",
     "text": [
      "INFO:nlsq.least_squares:Starting least squares optimization | {'method': 'trf', 'n_params': 4, 'loss': 'linear', 'ftol': 1e-08, 'xtol': 1e-08, 'gtol': 1e-08}\n"
     ]
    },
    {
     "name": "stdout",
     "output_type": "stream",
     "text": [
      "\n",
      "============================================================\n",
      "CHUNKED PROCESSING DEMO\n",
      "============================================================\n",
      "Generating 2M point polynomial dataset...\n",
      "Dataset: 2,000,000 points\n",
      "True parameters: [0.5, -1.2, 2.0, 1.5]\n",
      "\n",
      "Processing strategy: chunked\n",
      "Chunk size: 1,000,000\n",
      "Number of chunks: 2\n",
      "Memory estimate: 0.32 GB\n",
      "\n",
      "Fitting with chunked processing...\n"
     ]
    },
    {
     "name": "stderr",
     "output_type": "stream",
     "text": [
      "INFO:nlsq.optimizer.trf:Starting TRF optimization (no bounds) | {'n_params': 4, 'n_residuals': 1000000, 'max_nfev': None}\n"
     ]
    },
    {
     "name": "stderr",
     "output_type": "stream",
     "text": [
      "PERFORMANCE:nlsq.optimizer.trf:Optimization: iter=0 | cost=2.369915e+05 | ‖∇f‖=2.020638e+06 | nfev=1\n"
     ]
    },
    {
     "name": "stderr",
     "output_type": "stream",
     "text": [
      "PERFORMANCE:nlsq.least_squares:Timer: optimization took 0.490366s\n"
     ]
    },
    {
     "name": "stderr",
     "output_type": "stream",
     "text": [
      "INFO:nlsq.least_squares:Convergence: reason=`gtol` termination condition is satisfied. | iterations=None | final_cost=5.002569e+03 | time=0.490s | final_gradient_norm=2.1212258616287727e-09\n"
     ]
    },
    {
     "name": "stderr",
     "output_type": "stream",
     "text": [
      "PERFORMANCE:nlsq.curve_fit:Timer: curve_fit took 0.728493s\n"
     ]
    },
    {
     "name": "stderr",
     "output_type": "stream",
     "text": [
      "INFO:nlsq.curve_fit:Curve fit completed | {'total_time': 0.7284927869986859, 'final_cost': 10005.137939561162, 'covariance_warning': False}\n"
     ]
    },
    {
     "name": "stderr",
     "output_type": "stream",
     "text": [
      "INFO:nlsq.nlsq.large_dataset:Progress: 1/2 chunks (50.0%) - ETA: 0.8s\n"
     ]
    },
    {
     "name": "stderr",
     "output_type": "stream",
     "text": [
      "INFO:nlsq.curve_fit:Starting curve fit | {'n_params': 4, 'n_data_points': 1000000, 'method': 'trf', 'solver': 'auto', 'batch_size': None, 'has_bounds': False, 'dynamic_sizing': False}\n"
     ]
    },
    {
     "name": "stderr",
     "output_type": "stream",
     "text": [
      "INFO:nlsq.least_squares:Starting least squares optimization | {'method': 'trf', 'n_params': 4, 'loss': 'linear', 'ftol': 1e-08, 'xtol': 1e-08, 'gtol': 1e-08}\n"
     ]
    },
    {
     "name": "stderr",
     "output_type": "stream",
     "text": [
      "INFO:nlsq.optimizer.trf:Starting TRF optimization (no bounds) | {'n_params': 4, 'n_residuals': 1000000, 'max_nfev': None}\n"
     ]
    },
    {
     "name": "stderr",
     "output_type": "stream",
     "text": [
      "PERFORMANCE:nlsq.optimizer.trf:Optimization: iter=0 | cost=5.017499e+03 | ‖∇f‖=1.463448e+04 | nfev=1\n"
     ]
    },
    {
     "name": "stderr",
     "output_type": "stream",
     "text": [
      "PERFORMANCE:nlsq.least_squares:Timer: optimization took 0.029676s\n"
     ]
    },
    {
     "name": "stderr",
     "output_type": "stream",
     "text": [
      "INFO:nlsq.least_squares:Convergence: reason=`gtol` termination condition is satisfied. | iterations=None | final_cost=5.004831e+03 | time=0.030s | final_gradient_norm=1.865601007011719e-10\n"
     ]
    },
    {
     "name": "stderr",
     "output_type": "stream",
     "text": [
      "PERFORMANCE:nlsq.curve_fit:Timer: curve_fit took 0.037874s\n"
     ]
    },
    {
     "name": "stderr",
     "output_type": "stream",
     "text": [
      "INFO:nlsq.curve_fit:Curve fit completed | {'total_time': 0.03787448100047186, 'final_cost': 10009.661564309994, 'covariance_warning': False}\n"
     ]
    },
    {
     "name": "stderr",
     "output_type": "stream",
     "text": [
      "INFO:nlsq.nlsq.large_dataset:Progress: 2/2 chunks (100.0%) - ETA: 0.0s\n"
     ]
    },
    {
     "name": "stderr",
     "output_type": "stream",
     "text": [
      "INFO:nlsq.nlsq.large_dataset:Chunked fit completed with 100.0% success rate\n"
     ]
    },
    {
     "name": "stdout",
     "output_type": "stream",
     "text": [
      "\n",
      "✅ Chunked fit completed in 1.11 seconds\n",
      "Used 2 chunks with 100.0% success rate\n",
      "Fitted parameters: [ 0.49954434 -1.1991878   2.00000184  1.49975205]\n",
      "Absolute errors: [4.55663613e-04 8.12197789e-04 1.84432241e-06 2.47951909e-04]\n",
      "Relative errors: [9.11327226e-02 6.76831491e-02 9.22161203e-05 1.65301273e-02]%\n"
     ]
    }
   ],
   "source": [
    "def demo_chunked_processing():\n",
    "    \"\"\"Demonstrate chunked processing with progress reporting.\"\"\"\n",
    "    print(\"\\n\" + \"=\" * 60)\n",
    "    print(\"CHUNKED PROCESSING DEMO\")\n",
    "    print(\"=\" * 60)\n",
    "\n",
    "    # Generate a dataset that will require chunking\n",
    "    print(\"Generating 2M point polynomial dataset...\")\n",
    "    np.random.seed(123)\n",
    "    n_points = 2_000_000\n",
    "    x_data = np.linspace(-2, 2, n_points, dtype=np.float64)\n",
    "    true_params = [0.5, -1.2, 2.0, 1.5]\n",
    "    noise_level = 0.1\n",
    "\n",
    "    y_true = (\n",
    "        true_params[0] * x_data**3\n",
    "        + true_params[1] * x_data**2\n",
    "        + true_params[2] * x_data\n",
    "        + true_params[3]\n",
    "    )\n",
    "    y_data = y_true + np.random.normal(0, noise_level, n_points)\n",
    "\n",
    "    print(f\"Dataset: {n_points:,} points\")\n",
    "    print(f\"True parameters: {true_params}\")\n",
    "\n",
    "    # Create fitter with limited memory to force chunking\n",
    "    fitter = LargeDatasetFitter(memory_limit_gb=0.5)  # Small limit to force chunking\n",
    "\n",
    "    # Get processing recommendations\n",
    "    recs = fitter.get_memory_recommendations(n_points, 4)\n",
    "    print(f\"\\nProcessing strategy: {recs['processing_strategy']}\")\n",
    "    print(f\"Chunk size: {recs['recommendations']['chunk_size']:,}\")\n",
    "    print(f\"Number of chunks: {recs['recommendations']['n_chunks']}\")\n",
    "    print(\n",
    "        f\"Memory estimate: {recs['recommendations']['total_memory_estimate_gb']:.2f} GB\"\n",
    "    )\n",
    "\n",
    "    # Fit with progress reporting\n",
    "    print(\"\\nFitting with chunked processing...\")\n",
    "    start_time = time.time()\n",
    "\n",
    "    result = fitter.fit_with_progress(\n",
    "        polynomial_model, x_data, y_data, p0=[0.4, -1.0, 1.8, 1.2]\n",
    "    )\n",
    "\n",
    "    fit_time = time.time() - start_time\n",
    "\n",
    "    if result.success:\n",
    "        fitted_params = np.array(result.popt)\n",
    "        errors = np.abs(fitted_params - np.array(true_params))\n",
    "        rel_errors = errors / np.abs(np.array(true_params)) * 100\n",
    "\n",
    "        print(f\"\\n✅ Chunked fit completed in {fit_time:.2f} seconds\")\n",
    "        if hasattr(result, \"n_chunks\"):\n",
    "            print(\n",
    "                f\"Used {result.n_chunks} chunks with {result.success_rate:.1%} success rate\"\n",
    "            )\n",
    "        print(f\"Fitted parameters: {fitted_params}\")\n",
    "        print(f\"Absolute errors: {errors}\")\n",
    "        print(f\"Relative errors: {rel_errors}%\")\n",
    "    else:\n",
    "        print(f\"❌ Chunked fit failed: {result.message}\")\n",
    "\n",
    "\n",
    "# Run the demo\n",
    "demo_chunked_processing()"
   ]
  },
  {
   "cell_type": "markdown",
   "metadata": {},
   "source": [
    "## 4. Sampling Strategy for Extremely Large Datasets\n",
    "\n",
    "For datasets with 100M+ points, sampling strategies can be more efficient than processing all data."
   ]
  },
  {
   "cell_type": "code",
   "execution_count": 7,
   "metadata": {
    "execution": {
     "iopub.execute_input": "2025-10-08T19:57:42.995009Z",
     "iopub.status.busy": "2025-10-08T19:57:42.994868Z",
     "iopub.status.idle": "2025-10-08T19:57:43.802840Z",
     "shell.execute_reply": "2025-10-08T19:57:43.802188Z"
    }
   },
   "outputs": [
    {
     "name": "stderr",
     "output_type": "stream",
     "text": [
      "INFO:nlsq.nlsq.large_dataset:Dataset analysis for 1,000,000 points, 3 parameters:\n"
     ]
    },
    {
     "name": "stderr",
     "output_type": "stream",
     "text": [
      "INFO:nlsq.nlsq.large_dataset:  Estimated memory per point: 146.0 bytes\n"
     ]
    },
    {
     "name": "stderr",
     "output_type": "stream",
     "text": [
      "INFO:nlsq.nlsq.large_dataset:  Total memory estimate: 0.14 GB\n"
     ]
    },
    {
     "name": "stderr",
     "output_type": "stream",
     "text": [
      "INFO:nlsq.nlsq.large_dataset:  Recommended chunk size: 1,000,000\n"
     ]
    },
    {
     "name": "stderr",
     "output_type": "stream",
     "text": [
      "INFO:nlsq.nlsq.large_dataset:  Number of chunks: 1\n"
     ]
    },
    {
     "name": "stderr",
     "output_type": "stream",
     "text": [
      "INFO:nlsq.nlsq.large_dataset:Fitting dataset in single chunk\n"
     ]
    },
    {
     "name": "stderr",
     "output_type": "stream",
     "text": [
      "INFO:nlsq.curve_fit:Starting curve fit | {'n_params': 3, 'n_data_points': 1000000, 'method': 'trf', 'solver': 'auto', 'batch_size': None, 'has_bounds': False, 'dynamic_sizing': False}\n"
     ]
    },
    {
     "name": "stderr",
     "output_type": "stream",
     "text": [
      "INFO:nlsq.least_squares:Starting least squares optimization | {'method': 'trf', 'n_params': 3, 'loss': 'linear', 'ftol': 1e-08, 'xtol': 1e-08, 'gtol': 1e-08}\n"
     ]
    },
    {
     "name": "stdout",
     "output_type": "stream",
     "text": [
      "\n",
      "============================================================\n",
      "SAMPLING STRATEGY DEMO\n",
      "============================================================\n",
      "Simulating extremely large dataset (100M points)...\n",
      "Full dataset size: 100,000,000 points (simulated)\n",
      "Demo sample size: 1,000,000 points\n",
      "True parameters: [3.0, 0.8, 0.2]\n",
      "\n",
      "Full dataset memory estimate: 13.60 GB\n",
      "Sampling recommended: False\n",
      "\n",
      "Fitting with sampling strategy...\n"
     ]
    },
    {
     "name": "stderr",
     "output_type": "stream",
     "text": [
      "INFO:nlsq.optimizer.trf:Starting TRF optimization (no bounds) | {'n_params': 3, 'n_residuals': 1000000, 'max_nfev': None}\n"
     ]
    },
    {
     "name": "stderr",
     "output_type": "stream",
     "text": [
      "PERFORMANCE:nlsq.optimizer.trf:Optimization: iter=0 | cost=7.170530e+04 | ‖∇f‖=3.394088e+05 | nfev=1\n"
     ]
    },
    {
     "name": "stderr",
     "output_type": "stream",
     "text": [
      "PERFORMANCE:nlsq.optimizer.trf:Optimization: iter=1 | cost=3.918276e+03 | ‖∇f‖=7.496341e+04 | step=2.694439e+00 | nfev=2\n"
     ]
    },
    {
     "name": "stderr",
     "output_type": "stream",
     "text": [
      "PERFORMANCE:nlsq.optimizer.trf:Optimization: iter=2 | cost=1.254272e+03 | ‖∇f‖=3.228985e+03 | step=2.694439e+00 | nfev=3\n"
     ]
    },
    {
     "name": "stderr",
     "output_type": "stream",
     "text": [
      "PERFORMANCE:nlsq.optimizer.trf:Optimization: iter=3 | cost=1.248005e+03 | ‖∇f‖=8.681896e-01 | step=2.694439e+00 | nfev=4\n"
     ]
    },
    {
     "name": "stderr",
     "output_type": "stream",
     "text": [
      "PERFORMANCE:nlsq.least_squares:Timer: optimization took 0.461450s\n"
     ]
    },
    {
     "name": "stderr",
     "output_type": "stream",
     "text": [
      "INFO:nlsq.least_squares:Convergence: reason=`ftol` termination condition is satisfied. | iterations=None | final_cost=1.248005e+03 | time=0.461s | final_gradient_norm=2.131660789217449e-06\n"
     ]
    },
    {
     "name": "stderr",
     "output_type": "stream",
     "text": [
      "PERFORMANCE:nlsq.curve_fit:Timer: curve_fit took 0.678390s\n"
     ]
    },
    {
     "name": "stderr",
     "output_type": "stream",
     "text": [
      "INFO:nlsq.curve_fit:Curve fit completed | {'total_time': 0.678389832000903, 'final_cost': 2496.009988407105, 'covariance_warning': False}\n"
     ]
    },
    {
     "name": "stdout",
     "output_type": "stream",
     "text": [
      "\n",
      "✅ Sampling fit completed in 0.76 seconds\n",
      "Fitted parameters: [2.99987792 0.79974645 0.19984664]\n",
      "Absolute errors: [0.00012208 0.00025355 0.00015336]\n",
      "Relative errors: [0.00406948 0.03169369 0.07668245]%\n"
     ]
    }
   ],
   "source": [
    "def demo_sampling_strategy():\n",
    "    \"\"\"Demonstrate sampling for extremely large datasets.\"\"\"\n",
    "    print(\"\\n\" + \"=\" * 60)\n",
    "    print(\"SAMPLING STRATEGY DEMO\")\n",
    "    print(\"=\" * 60)\n",
    "\n",
    "    # Simulate a very large dataset scenario\n",
    "    print(\"Simulating extremely large dataset (100M points)...\")\n",
    "    n_points_full = 100_000_000  # 100M points\n",
    "    true_params = [3.0, 0.8, 0.2]\n",
    "\n",
    "    # For demo purposes, generate a smaller representative sample\n",
    "    # In practice, you would have this data already or stream it\n",
    "    np.random.seed(456)\n",
    "    n_sample = 1_000_000  # 1M sample for demo\n",
    "    x_sample = np.sort(np.random.uniform(0, 5, n_sample))\n",
    "    y_sample = (\n",
    "        true_params[0] * np.exp(-true_params[1] * x_sample)\n",
    "        + true_params[2]\n",
    "        + np.random.normal(0, 0.05, n_sample)\n",
    "    )\n",
    "\n",
    "    print(f\"Full dataset size: {n_points_full:,} points (simulated)\")\n",
    "    print(f\"Demo sample size: {n_sample:,} points\")\n",
    "    print(f\"True parameters: {true_params}\")\n",
    "\n",
    "    # Check memory requirements for full dataset\n",
    "    stats = estimate_memory_requirements(n_points_full, 3)\n",
    "    print(f\"\\nFull dataset memory estimate: {stats.total_memory_estimate_gb:.2f} GB\")\n",
    "    print(f\"Sampling recommended: {stats.requires_sampling}\")\n",
    "\n",
    "    # Create fitter with sampling enabled\n",
    "    config = LDMemoryConfig(memory_limit_gb=4.0, enable_sampling=True)\n",
    "    fitter = LargeDatasetFitter(config=config)\n",
    "\n",
    "    print(\"\\nFitting with sampling strategy...\")\n",
    "    start_time = time.time()\n",
    "\n",
    "    # For demo, use our sample as if it were the full dataset\n",
    "    result = fitter.fit(exponential_decay, x_sample, y_sample, p0=[2.5, 1.0, 0.1])\n",
    "\n",
    "    fit_time = time.time() - start_time\n",
    "\n",
    "    if result.success:\n",
    "        fitted_params = np.array(result.popt)\n",
    "        errors = np.abs(fitted_params - np.array(true_params))\n",
    "        rel_errors = errors / np.array(true_params) * 100\n",
    "\n",
    "        print(f\"\\n✅ Sampling fit completed in {fit_time:.2f} seconds\")\n",
    "        print(f\"Fitted parameters: {fitted_params}\")\n",
    "        print(f\"Absolute errors: {errors}\")\n",
    "        print(f\"Relative errors: {rel_errors}%\")\n",
    "\n",
    "        if hasattr(result, \"was_sampled\") and result.was_sampled:\n",
    "            print(\n",
    "                f\"Used sampling: {result.sample_size:,} points from {result.original_size:,}\"\n",
    "            )\n",
    "    else:\n",
    "        print(f\"❌ Sampling fit failed: {result.message}\")\n",
    "\n",
    "\n",
    "# Run the demo\n",
    "demo_sampling_strategy()"
   ]
  },
  {
   "cell_type": "markdown",
   "metadata": {},
   "source": [
    "## 5. curve_fit_large Convenience Function\n",
    "\n",
    "The `curve_fit_large` function provides automatic detection and handling of large datasets, making it easy to switch between standard and large dataset processing."
   ]
  },
  {
   "cell_type": "code",
   "execution_count": 8,
   "metadata": {
    "execution": {
     "iopub.execute_input": "2025-10-08T19:57:43.806113Z",
     "iopub.status.busy": "2025-10-08T19:57:43.805874Z",
     "iopub.status.idle": "2025-10-08T19:57:46.834626Z",
     "shell.execute_reply": "2025-10-08T19:57:46.834235Z"
    }
   },
   "outputs": [
    {
     "name": "stdout",
     "output_type": "stream",
     "text": [
      "\n",
      "============================================================\n",
      "CURVE_FIT_LARGE CONVENIENCE FUNCTION DEMO\n",
      "============================================================\n",
      "Generating 3M point dataset for curve_fit_large demo...\n"
     ]
    },
    {
     "name": "stderr",
     "output_type": "stream",
     "text": [
      "INFO:nlsq.nlsq.large_dataset:Dataset analysis for 3,000,000 points, 4 parameters:\n"
     ]
    },
    {
     "name": "stderr",
     "output_type": "stream",
     "text": [
      "INFO:nlsq.nlsq.large_dataset:  Estimated memory per point: 170.0 bytes\n"
     ]
    },
    {
     "name": "stderr",
     "output_type": "stream",
     "text": [
      "INFO:nlsq.nlsq.large_dataset:  Total memory estimate: 0.47 GB\n"
     ]
    },
    {
     "name": "stderr",
     "output_type": "stream",
     "text": [
      "INFO:nlsq.nlsq.large_dataset:  Recommended chunk size: 300,000\n"
     ]
    },
    {
     "name": "stderr",
     "output_type": "stream",
     "text": [
      "INFO:nlsq.nlsq.large_dataset:  Number of chunks: 10\n"
     ]
    },
    {
     "name": "stderr",
     "output_type": "stream",
     "text": [
      "INFO:nlsq.nlsq.large_dataset:Fitting dataset using 10 chunks\n"
     ]
    },
    {
     "name": "stderr",
     "output_type": "stream",
     "text": [
      "INFO:nlsq.curve_fit:Starting curve fit | {'n_params': 4, 'n_data_points': 300000, 'method': 'trf', 'solver': 'auto', 'batch_size': None, 'has_bounds': False, 'dynamic_sizing': False}\n"
     ]
    },
    {
     "name": "stderr",
     "output_type": "stream",
     "text": [
      "INFO:nlsq.least_squares:Starting least squares optimization | {'method': 'trf', 'n_params': 4, 'loss': 'linear', 'ftol': 1e-08, 'xtol': 1e-08, 'gtol': 1e-08}\n"
     ]
    },
    {
     "name": "stdout",
     "output_type": "stream",
     "text": [
      "Dataset: 3,000,000 points\n",
      "True parameters: a=5.00, mu=5.00, sigma=1.50, offset=0.50\n",
      "\n",
      "Using curve_fit_large with automatic optimization...\n"
     ]
    },
    {
     "name": "stderr",
     "output_type": "stream",
     "text": [
      "INFO:nlsq.optimizer.trf:Starting TRF optimization (no bounds) | {'n_params': 4, 'n_residuals': 300000, 'max_nfev': None}\n"
     ]
    },
    {
     "name": "stderr",
     "output_type": "stream",
     "text": [
      "PERFORMANCE:nlsq.optimizer.trf:Optimization: iter=0 | cost=4.504638e+03 | ‖∇f‖=4.208710e+04 | nfev=1\n"
     ]
    },
    {
     "name": "stderr",
     "output_type": "stream",
     "text": [
      "PERFORMANCE:nlsq.optimizer.trf:Optimization: iter=1 | cost=1.539078e+03 | ‖∇f‖=4.750796e+03 | step=6.718631e+00 | nfev=2\n"
     ]
    },
    {
     "name": "stderr",
     "output_type": "stream",
     "text": [
      "PERFORMANCE:nlsq.optimizer.trf:Optimization: iter=2 | cost=1.500883e+03 | ‖∇f‖=5.417647e+01 | step=3.359315e+00 | nfev=4\n"
     ]
    },
    {
     "name": "stderr",
     "output_type": "stream",
     "text": [
      "PERFORMANCE:nlsq.optimizer.trf:Optimization: iter=3 | cost=1.500866e+03 | ‖∇f‖=2.413171e+01 | step=4.199144e-01 | nfev=7\n"
     ]
    },
    {
     "name": "stderr",
     "output_type": "stream",
     "text": [
      "PERFORMANCE:nlsq.optimizer.trf:Optimization: iter=4 | cost=1.500865e+03 | ‖∇f‖=3.026088e+00 | step=2.099572e-01 | nfev=9\n"
     ]
    },
    {
     "name": "stderr",
     "output_type": "stream",
     "text": [
      "PERFORMANCE:nlsq.optimizer.trf:Optimization: iter=5 | cost=1.500865e+03 | ‖∇f‖=7.967146e-01 | step=1.049786e-01 | nfev=11\n"
     ]
    },
    {
     "name": "stderr",
     "output_type": "stream",
     "text": [
      "PERFORMANCE:nlsq.optimizer.trf:Optimization: iter=6 | cost=1.500865e+03 | ‖∇f‖=3.299128e+00 | step=2.624465e-02 | nfev=12\n"
     ]
    },
    {
     "name": "stderr",
     "output_type": "stream",
     "text": [
      "PERFORMANCE:nlsq.optimizer.trf:Optimization: iter=7 | cost=1.500865e+03 | ‖∇f‖=2.075397e-01 | step=5.248930e-02 | nfev=13\n"
     ]
    },
    {
     "name": "stderr",
     "output_type": "stream",
     "text": [
      "PERFORMANCE:nlsq.least_squares:Timer: optimization took 0.453776s\n"
     ]
    },
    {
     "name": "stderr",
     "output_type": "stream",
     "text": [
      "INFO:nlsq.least_squares:Convergence: reason=`ftol` termination condition is satisfied. | iterations=None | final_cost=1.500865e+03 | time=0.454s | final_gradient_norm=0.8581451825317004\n"
     ]
    },
    {
     "name": "stderr",
     "output_type": "stream",
     "text": [
      "PERFORMANCE:nlsq.curve_fit:Timer: curve_fit took 0.786714s\n"
     ]
    },
    {
     "name": "stderr",
     "output_type": "stream",
     "text": [
      "INFO:nlsq.curve_fit:Curve fit completed | {'total_time': 0.7867144310002914, 'final_cost': 3001.7293938468183, 'covariance_warning': False}\n"
     ]
    },
    {
     "name": "stderr",
     "output_type": "stream",
     "text": [
      "INFO:nlsq.nlsq.large_dataset:Progress: 1/10 chunks (10.0%) - ETA: 7.7s\n"
     ]
    },
    {
     "name": "stderr",
     "output_type": "stream",
     "text": [
      "INFO:nlsq.curve_fit:Starting curve fit | {'n_params': 4, 'n_data_points': 300000, 'method': 'trf', 'solver': 'auto', 'batch_size': None, 'has_bounds': False, 'dynamic_sizing': False}\n"
     ]
    },
    {
     "name": "stderr",
     "output_type": "stream",
     "text": [
      "INFO:nlsq.least_squares:Starting least squares optimization | {'method': 'trf', 'n_params': 4, 'loss': 'linear', 'ftol': 1e-08, 'xtol': 1e-08, 'gtol': 1e-08}\n"
     ]
    },
    {
     "name": "stderr",
     "output_type": "stream",
     "text": [
      "INFO:nlsq.optimizer.trf:Starting TRF optimization (no bounds) | {'n_params': 4, 'n_residuals': 300000, 'max_nfev': None}\n"
     ]
    },
    {
     "name": "stderr",
     "output_type": "stream",
     "text": [
      "PERFORMANCE:nlsq.optimizer.trf:Optimization: iter=0 | cost=1.500202e+03 | ‖∇f‖=6.905659e+02 | nfev=1\n"
     ]
    },
    {
     "name": "stderr",
     "output_type": "stream",
     "text": [
      "PERFORMANCE:nlsq.optimizer.trf:Optimization: iter=1 | cost=1.499927e+03 | ‖∇f‖=4.835279e+02 | step=5.913726e-01 | nfev=3\n"
     ]
    },
    {
     "name": "stderr",
     "output_type": "stream",
     "text": [
      "PERFORMANCE:nlsq.optimizer.trf:Optimization: iter=2 | cost=1.499677e+03 | ‖∇f‖=3.966048e+01 | step=2.956863e-01 | nfev=5\n"
     ]
    },
    {
     "name": "stderr",
     "output_type": "stream",
     "text": [
      "PERFORMANCE:nlsq.optimizer.trf:Optimization: iter=3 | cost=1.499675e+03 | ‖∇f‖=8.739206e+00 | step=1.478431e-01 | nfev=7\n"
     ]
    },
    {
     "name": "stderr",
     "output_type": "stream",
     "text": [
      "PERFORMANCE:nlsq.optimizer.trf:Optimization: iter=4 | cost=1.499675e+03 | ‖∇f‖=2.129701e+00 | step=7.392157e-02 | nfev=9\n"
     ]
    },
    {
     "name": "stderr",
     "output_type": "stream",
     "text": [
      "PERFORMANCE:nlsq.optimizer.trf:Optimization: iter=5 | cost=1.499675e+03 | ‖∇f‖=8.322635e+00 | step=7.392157e-02 | nfev=10\n"
     ]
    },
    {
     "name": "stderr",
     "output_type": "stream",
     "text": [
      "PERFORMANCE:nlsq.optimizer.trf:Optimization: iter=6 | cost=1.499675e+03 | ‖∇f‖=8.208992e+00 | step=1.478431e-01 | nfev=11\n"
     ]
    },
    {
     "name": "stderr",
     "output_type": "stream",
     "text": [
      "PERFORMANCE:nlsq.optimizer.trf:Optimization: iter=7 | cost=1.499675e+03 | ‖∇f‖=2.035134e+00 | step=7.392157e-02 | nfev=13\n"
     ]
    },
    {
     "name": "stderr",
     "output_type": "stream",
     "text": [
      "PERFORMANCE:nlsq.optimizer.trf:Optimization: iter=8 | cost=1.499674e+03 | ‖∇f‖=7.960445e+00 | step=7.392157e-02 | nfev=14\n"
     ]
    },
    {
     "name": "stderr",
     "output_type": "stream",
     "text": [
      "PERFORMANCE:nlsq.optimizer.trf:Optimization: iter=9 | cost=1.499674e+03 | ‖∇f‖=7.852658e+00 | step=7.392157e-02 | nfev=15\n"
     ]
    },
    {
     "name": "stderr",
     "output_type": "stream",
     "text": [
      "PERFORMANCE:nlsq.optimizer.trf:Optimization: iter=10 | cost=1.499674e+03 | ‖∇f‖=7.716372e+00 | step=7.392157e-02 | nfev=16\n"
     ]
    },
    {
     "name": "stderr",
     "output_type": "stream",
     "text": [
      "PERFORMANCE:nlsq.optimizer.trf:Optimization: iter=11 | cost=1.499674e+03 | ‖∇f‖=7.583338e+00 | step=7.392157e-02 | nfev=17\n"
     ]
    },
    {
     "name": "stderr",
     "output_type": "stream",
     "text": [
      "PERFORMANCE:nlsq.optimizer.trf:Optimization: iter=12 | cost=1.499674e+03 | ‖∇f‖=7.453562e+00 | step=7.392157e-02 | nfev=18\n"
     ]
    },
    {
     "name": "stderr",
     "output_type": "stream",
     "text": [
      "PERFORMANCE:nlsq.optimizer.trf:Optimization: iter=13 | cost=1.499674e+03 | ‖∇f‖=7.326949e+00 | step=7.392157e-02 | nfev=19\n"
     ]
    },
    {
     "name": "stderr",
     "output_type": "stream",
     "text": [
      "PERFORMANCE:nlsq.optimizer.trf:Optimization: iter=14 | cost=1.499673e+03 | ‖∇f‖=7.203404e+00 | step=7.392157e-02 | nfev=20\n"
     ]
    },
    {
     "name": "stderr",
     "output_type": "stream",
     "text": [
      "PERFORMANCE:nlsq.optimizer.trf:Optimization: iter=15 | cost=1.499673e+03 | ‖∇f‖=7.082836e+00 | step=7.392157e-02 | nfev=21\n"
     ]
    },
    {
     "name": "stderr",
     "output_type": "stream",
     "text": [
      "PERFORMANCE:nlsq.optimizer.trf:Optimization: iter=16 | cost=1.499673e+03 | ‖∇f‖=6.965159e+00 | step=7.392157e-02 | nfev=22\n"
     ]
    },
    {
     "name": "stderr",
     "output_type": "stream",
     "text": [
      "PERFORMANCE:nlsq.optimizer.trf:Optimization: iter=17 | cost=1.499673e+03 | ‖∇f‖=6.850286e+00 | step=7.392157e-02 | nfev=23\n"
     ]
    },
    {
     "name": "stderr",
     "output_type": "stream",
     "text": [
      "PERFORMANCE:nlsq.optimizer.trf:Optimization: iter=18 | cost=1.499673e+03 | ‖∇f‖=6.738136e+00 | step=7.392157e-02 | nfev=24\n"
     ]
    },
    {
     "name": "stderr",
     "output_type": "stream",
     "text": [
      "PERFORMANCE:nlsq.optimizer.trf:Optimization: iter=19 | cost=1.499673e+03 | ‖∇f‖=6.628629e+00 | step=7.392157e-02 | nfev=25\n"
     ]
    },
    {
     "name": "stderr",
     "output_type": "stream",
     "text": [
      "PERFORMANCE:nlsq.optimizer.trf:Optimization: iter=20 | cost=1.499673e+03 | ‖∇f‖=6.521688e+00 | step=7.392157e-02 | nfev=26\n"
     ]
    },
    {
     "name": "stderr",
     "output_type": "stream",
     "text": [
      "PERFORMANCE:nlsq.optimizer.trf:Optimization: iter=21 | cost=1.499673e+03 | ‖∇f‖=6.417238e+00 | step=7.392157e-02 | nfev=27\n"
     ]
    },
    {
     "name": "stderr",
     "output_type": "stream",
     "text": [
      "PERFORMANCE:nlsq.optimizer.trf:Optimization: iter=22 | cost=1.499673e+03 | ‖∇f‖=6.315207e+00 | step=7.392157e-02 | nfev=28\n"
     ]
    },
    {
     "name": "stderr",
     "output_type": "stream",
     "text": [
      "PERFORMANCE:nlsq.optimizer.trf:Optimization: iter=23 | cost=1.499672e+03 | ‖∇f‖=6.215525e+00 | step=7.392157e-02 | nfev=29\n"
     ]
    },
    {
     "name": "stderr",
     "output_type": "stream",
     "text": [
      "PERFORMANCE:nlsq.optimizer.trf:Optimization: iter=24 | cost=1.499672e+03 | ‖∇f‖=6.118125e+00 | step=7.392157e-02 | nfev=30\n"
     ]
    },
    {
     "name": "stderr",
     "output_type": "stream",
     "text": [
      "PERFORMANCE:nlsq.optimizer.trf:Optimization: iter=25 | cost=1.499672e+03 | ‖∇f‖=6.022941e+00 | step=7.392157e-02 | nfev=31\n"
     ]
    },
    {
     "name": "stderr",
     "output_type": "stream",
     "text": [
      "PERFORMANCE:nlsq.optimizer.trf:Optimization: iter=26 | cost=1.499672e+03 | ‖∇f‖=5.929909e+00 | step=7.392157e-02 | nfev=32\n"
     ]
    },
    {
     "name": "stderr",
     "output_type": "stream",
     "text": [
      "PERFORMANCE:nlsq.optimizer.trf:Optimization: iter=27 | cost=1.499672e+03 | ‖∇f‖=5.838970e+00 | step=7.392157e-02 | nfev=33\n"
     ]
    },
    {
     "name": "stderr",
     "output_type": "stream",
     "text": [
      "PERFORMANCE:nlsq.optimizer.trf:Optimization: iter=28 | cost=1.499672e+03 | ‖∇f‖=5.750062e+00 | step=7.392157e-02 | nfev=34\n"
     ]
    },
    {
     "name": "stderr",
     "output_type": "stream",
     "text": [
      "PERFORMANCE:nlsq.optimizer.trf:Optimization: iter=29 | cost=1.499672e+03 | ‖∇f‖=5.663130e+00 | step=7.392157e-02 | nfev=35\n"
     ]
    },
    {
     "name": "stderr",
     "output_type": "stream",
     "text": [
      "PERFORMANCE:nlsq.optimizer.trf:Optimization: iter=30 | cost=1.499672e+03 | ‖∇f‖=5.578118e+00 | step=7.392157e-02 | nfev=36\n"
     ]
    },
    {
     "name": "stderr",
     "output_type": "stream",
     "text": [
      "PERFORMANCE:nlsq.optimizer.trf:Optimization: iter=31 | cost=1.499672e+03 | ‖∇f‖=5.494971e+00 | step=7.392157e-02 | nfev=37\n"
     ]
    },
    {
     "name": "stderr",
     "output_type": "stream",
     "text": [
      "PERFORMANCE:nlsq.optimizer.trf:Optimization: iter=32 | cost=1.499672e+03 | ‖∇f‖=5.413638e+00 | step=7.392157e-02 | nfev=38\n"
     ]
    },
    {
     "name": "stderr",
     "output_type": "stream",
     "text": [
      "PERFORMANCE:nlsq.optimizer.trf:Optimization: iter=33 | cost=1.499672e+03 | ‖∇f‖=5.334069e+00 | step=7.392157e-02 | nfev=39\n"
     ]
    },
    {
     "name": "stderr",
     "output_type": "stream",
     "text": [
      "PERFORMANCE:nlsq.optimizer.trf:Optimization: iter=34 | cost=1.499672e+03 | ‖∇f‖=5.256215e+00 | step=7.392157e-02 | nfev=40\n"
     ]
    },
    {
     "name": "stderr",
     "output_type": "stream",
     "text": [
      "PERFORMANCE:nlsq.optimizer.trf:Optimization: iter=35 | cost=1.499672e+03 | ‖∇f‖=5.180029e+00 | step=7.392157e-02 | nfev=41\n"
     ]
    },
    {
     "name": "stderr",
     "output_type": "stream",
     "text": [
      "PERFORMANCE:nlsq.optimizer.trf:Optimization: iter=36 | cost=1.499672e+03 | ‖∇f‖=5.105465e+00 | step=7.392157e-02 | nfev=42\n"
     ]
    },
    {
     "name": "stderr",
     "output_type": "stream",
     "text": [
      "PERFORMANCE:nlsq.optimizer.trf:Optimization: iter=37 | cost=1.499672e+03 | ‖∇f‖=5.032480e+00 | step=7.392157e-02 | nfev=43\n"
     ]
    },
    {
     "name": "stderr",
     "output_type": "stream",
     "text": [
      "PERFORMANCE:nlsq.optimizer.trf:Optimization: iter=38 | cost=1.499672e+03 | ‖∇f‖=4.961030e+00 | step=7.392157e-02 | nfev=44\n"
     ]
    },
    {
     "name": "stderr",
     "output_type": "stream",
     "text": [
      "PERFORMANCE:nlsq.optimizer.trf:Optimization: iter=39 | cost=1.499672e+03 | ‖∇f‖=4.891075e+00 | step=7.392157e-02 | nfev=45\n"
     ]
    },
    {
     "name": "stderr",
     "output_type": "stream",
     "text": [
      "PERFORMANCE:nlsq.optimizer.trf:Optimization: iter=40 | cost=1.499672e+03 | ‖∇f‖=4.822573e+00 | step=7.392157e-02 | nfev=46\n"
     ]
    },
    {
     "name": "stderr",
     "output_type": "stream",
     "text": [
      "PERFORMANCE:nlsq.optimizer.trf:Optimization: iter=41 | cost=1.499672e+03 | ‖∇f‖=4.755487e+00 | step=7.392157e-02 | nfev=47\n"
     ]
    },
    {
     "name": "stderr",
     "output_type": "stream",
     "text": [
      "PERFORMANCE:nlsq.optimizer.trf:Optimization: iter=42 | cost=1.499672e+03 | ‖∇f‖=4.689778e+00 | step=7.392157e-02 | nfev=48\n"
     ]
    },
    {
     "name": "stderr",
     "output_type": "stream",
     "text": [
      "PERFORMANCE:nlsq.least_squares:Timer: optimization took 0.370344s\n"
     ]
    },
    {
     "name": "stderr",
     "output_type": "stream",
     "text": [
      "INFO:nlsq.least_squares:Convergence: reason=`ftol` termination condition is satisfied. | iterations=None | final_cost=1.499672e+03 | time=0.370s | final_gradient_norm=4.62541118553672\n"
     ]
    },
    {
     "name": "stderr",
     "output_type": "stream",
     "text": [
      "PERFORMANCE:nlsq.curve_fit:Timer: curve_fit took 0.374909s\n"
     ]
    },
    {
     "name": "stderr",
     "output_type": "stream",
     "text": [
      "INFO:nlsq.curve_fit:Curve fit completed | {'total_time': 0.37490909500047565, 'final_cost': 2999.3432092189114, 'covariance_warning': False}\n"
     ]
    },
    {
     "name": "stderr",
     "output_type": "stream",
     "text": [
      "INFO:nlsq.nlsq.large_dataset:Progress: 2/10 chunks (20.0%) - ETA: 5.4s\n"
     ]
    },
    {
     "name": "stderr",
     "output_type": "stream",
     "text": [
      "INFO:nlsq.curve_fit:Starting curve fit | {'n_params': 4, 'n_data_points': 300000, 'method': 'trf', 'solver': 'auto', 'batch_size': None, 'has_bounds': False, 'dynamic_sizing': False}\n"
     ]
    },
    {
     "name": "stderr",
     "output_type": "stream",
     "text": [
      "INFO:nlsq.least_squares:Starting least squares optimization | {'method': 'trf', 'n_params': 4, 'loss': 'linear', 'ftol': 1e-08, 'xtol': 1e-08, 'gtol': 1e-08}\n"
     ]
    },
    {
     "name": "stderr",
     "output_type": "stream",
     "text": [
      "INFO:nlsq.optimizer.trf:Starting TRF optimization (no bounds) | {'n_params': 4, 'n_residuals': 300000, 'max_nfev': None}\n"
     ]
    },
    {
     "name": "stderr",
     "output_type": "stream",
     "text": [
      "PERFORMANCE:nlsq.optimizer.trf:Optimization: iter=0 | cost=1.685348e+03 | ‖∇f‖=2.309115e+04 | nfev=1\n"
     ]
    },
    {
     "name": "stderr",
     "output_type": "stream",
     "text": [
      "PERFORMANCE:nlsq.optimizer.trf:Optimization: iter=1 | cost=1.521974e+03 | ‖∇f‖=8.832907e+03 | step=8.709132e-01 | nfev=4\n"
     ]
    },
    {
     "name": "stderr",
     "output_type": "stream",
     "text": [
      "PERFORMANCE:nlsq.optimizer.trf:Optimization: iter=2 | cost=1.508941e+03 | ‖∇f‖=4.803791e+03 | step=8.709132e-01 | nfev=5\n"
     ]
    },
    {
     "name": "stderr",
     "output_type": "stream",
     "text": [
      "PERFORMANCE:nlsq.optimizer.trf:Optimization: iter=3 | cost=1.504841e+03 | ‖∇f‖=2.857023e+03 | step=8.709132e-01 | nfev=6\n"
     ]
    },
    {
     "name": "stderr",
     "output_type": "stream",
     "text": [
      "PERFORMANCE:nlsq.optimizer.trf:Optimization: iter=4 | cost=1.502347e+03 | ‖∇f‖=1.137448e+02 | step=4.354566e-01 | nfev=8\n"
     ]
    },
    {
     "name": "stderr",
     "output_type": "stream",
     "text": [
      "PERFORMANCE:nlsq.optimizer.trf:Optimization: iter=5 | cost=1.502334e+03 | ‖∇f‖=5.031630e+01 | step=2.177283e-01 | nfev=10\n"
     ]
    },
    {
     "name": "stderr",
     "output_type": "stream",
     "text": [
      "PERFORMANCE:nlsq.optimizer.trf:Optimization: iter=6 | cost=1.502328e+03 | ‖∇f‖=2.147546e+02 | step=2.177283e-01 | nfev=11\n"
     ]
    },
    {
     "name": "stderr",
     "output_type": "stream",
     "text": [
      "PERFORMANCE:nlsq.optimizer.trf:Optimization: iter=7 | cost=1.502309e+03 | ‖∇f‖=2.113454e+02 | step=2.177283e-01 | nfev=12\n"
     ]
    },
    {
     "name": "stderr",
     "output_type": "stream",
     "text": [
      "PERFORMANCE:nlsq.optimizer.trf:Optimization: iter=8 | cost=1.502291e+03 | ‖∇f‖=2.137847e+02 | step=2.177283e-01 | nfev=13\n"
     ]
    },
    {
     "name": "stderr",
     "output_type": "stream",
     "text": [
      "PERFORMANCE:nlsq.optimizer.trf:Optimization: iter=9 | cost=1.502274e+03 | ‖∇f‖=2.157213e+02 | step=2.177283e-01 | nfev=14\n"
     ]
    },
    {
     "name": "stderr",
     "output_type": "stream",
     "text": [
      "PERFORMANCE:nlsq.optimizer.trf:Optimization: iter=10 | cost=1.502259e+03 | ‖∇f‖=2.171940e+02 | step=2.177283e-01 | nfev=15\n"
     ]
    },
    {
     "name": "stderr",
     "output_type": "stream",
     "text": [
      "PERFORMANCE:nlsq.optimizer.trf:Optimization: iter=11 | cost=1.502246e+03 | ‖∇f‖=2.181157e+02 | step=2.177283e-01 | nfev=16\n"
     ]
    },
    {
     "name": "stderr",
     "output_type": "stream",
     "text": [
      "PERFORMANCE:nlsq.optimizer.trf:Optimization: iter=12 | cost=1.502238e+03 | ‖∇f‖=2.183884e+02 | step=2.177283e-01 | nfev=17\n"
     ]
    },
    {
     "name": "stderr",
     "output_type": "stream",
     "text": [
      "PERFORMANCE:nlsq.optimizer.trf:Optimization: iter=13 | cost=1.502229e+03 | ‖∇f‖=1.721698e+02 | step=2.177283e-01 | nfev=18\n"
     ]
    },
    {
     "name": "stderr",
     "output_type": "stream",
     "text": [
      "PERFORMANCE:nlsq.optimizer.trf:Optimization: iter=14 | cost=1.502217e+03 | ‖∇f‖=1.016311e+00 | step=2.177283e-01 | nfev=19\n"
     ]
    },
    {
     "name": "stderr",
     "output_type": "stream",
     "text": [
      "PERFORMANCE:nlsq.least_squares:Timer: optimization took 0.130340s\n"
     ]
    },
    {
     "name": "stderr",
     "output_type": "stream",
     "text": [
      "INFO:nlsq.least_squares:Convergence: reason=`ftol` termination condition is satisfied. | iterations=None | final_cost=1.502217e+03 | time=0.130s | final_gradient_norm=5.5981819855333015e-06\n"
     ]
    },
    {
     "name": "stderr",
     "output_type": "stream",
     "text": [
      "PERFORMANCE:nlsq.curve_fit:Timer: curve_fit took 0.133885s\n"
     ]
    },
    {
     "name": "stderr",
     "output_type": "stream",
     "text": [
      "INFO:nlsq.curve_fit:Curve fit completed | {'total_time': 0.13388531199962017, 'final_cost': 3004.434727348373, 'covariance_warning': False}\n"
     ]
    },
    {
     "name": "stderr",
     "output_type": "stream",
     "text": [
      "INFO:nlsq.nlsq.large_dataset:Progress: 3/10 chunks (30.0%) - ETA: 3.6s\n"
     ]
    },
    {
     "name": "stderr",
     "output_type": "stream",
     "text": [
      "INFO:nlsq.curve_fit:Starting curve fit | {'n_params': 4, 'n_data_points': 300000, 'method': 'trf', 'solver': 'auto', 'batch_size': None, 'has_bounds': False, 'dynamic_sizing': False}\n"
     ]
    },
    {
     "name": "stderr",
     "output_type": "stream",
     "text": [
      "INFO:nlsq.least_squares:Starting least squares optimization | {'method': 'trf', 'n_params': 4, 'loss': 'linear', 'ftol': 1e-08, 'xtol': 1e-08, 'gtol': 1e-08}\n"
     ]
    },
    {
     "name": "stderr",
     "output_type": "stream",
     "text": [
      "INFO:nlsq.optimizer.trf:Starting TRF optimization (no bounds) | {'n_params': 4, 'n_residuals': 300000, 'max_nfev': None}\n"
     ]
    },
    {
     "name": "stderr",
     "output_type": "stream",
     "text": [
      "PERFORMANCE:nlsq.optimizer.trf:Optimization: iter=0 | cost=1.656448e+03 | ‖∇f‖=1.287159e+04 | nfev=1\n"
     ]
    },
    {
     "name": "stderr",
     "output_type": "stream",
     "text": [
      "PERFORMANCE:nlsq.optimizer.trf:Optimization: iter=1 | cost=1.501650e+03 | ‖∇f‖=3.317582e+03 | step=6.846917e+00 | nfev=2\n"
     ]
    },
    {
     "name": "stderr",
     "output_type": "stream",
     "text": [
      "PERFORMANCE:nlsq.optimizer.trf:Optimization: iter=2 | cost=1.495464e+03 | ‖∇f‖=3.138491e+01 | step=6.846917e+00 | nfev=3\n"
     ]
    },
    {
     "name": "stderr",
     "output_type": "stream",
     "text": [
      "PERFORMANCE:nlsq.optimizer.trf:Optimization: iter=3 | cost=1.495464e+03 | ‖∇f‖=2.249533e-04 | step=6.846917e+00 | nfev=4\n"
     ]
    },
    {
     "name": "stderr",
     "output_type": "stream",
     "text": [
      "PERFORMANCE:nlsq.least_squares:Timer: optimization took 0.031123s\n"
     ]
    },
    {
     "name": "stderr",
     "output_type": "stream",
     "text": [
      "INFO:nlsq.least_squares:Convergence: reason=`ftol` termination condition is satisfied. | iterations=None | final_cost=1.495464e+03 | time=0.031s | final_gradient_norm=1.9334493117639795e-08\n"
     ]
    },
    {
     "name": "stderr",
     "output_type": "stream",
     "text": [
      "PERFORMANCE:nlsq.curve_fit:Timer: curve_fit took 0.033426s\n"
     ]
    },
    {
     "name": "stderr",
     "output_type": "stream",
     "text": [
      "INFO:nlsq.curve_fit:Curve fit completed | {'total_time': 0.033426214000428445, 'final_cost': 2990.9277503716307, 'covariance_warning': False}\n"
     ]
    },
    {
     "name": "stderr",
     "output_type": "stream",
     "text": [
      "INFO:nlsq.nlsq.large_dataset:Progress: 4/10 chunks (40.0%) - ETA: 2.4s\n"
     ]
    },
    {
     "name": "stderr",
     "output_type": "stream",
     "text": [
      "INFO:nlsq.curve_fit:Starting curve fit | {'n_params': 4, 'n_data_points': 300000, 'method': 'trf', 'solver': 'auto', 'batch_size': None, 'has_bounds': False, 'dynamic_sizing': False}\n"
     ]
    },
    {
     "name": "stderr",
     "output_type": "stream",
     "text": [
      "INFO:nlsq.least_squares:Starting least squares optimization | {'method': 'trf', 'n_params': 4, 'loss': 'linear', 'ftol': 1e-08, 'xtol': 1e-08, 'gtol': 1e-08}\n"
     ]
    },
    {
     "name": "stderr",
     "output_type": "stream",
     "text": [
      "INFO:nlsq.optimizer.trf:Starting TRF optimization (no bounds) | {'n_params': 4, 'n_residuals': 300000, 'max_nfev': None}\n"
     ]
    },
    {
     "name": "stderr",
     "output_type": "stream",
     "text": [
      "PERFORMANCE:nlsq.optimizer.trf:Optimization: iter=0 | cost=1.548878e+03 | ‖∇f‖=4.087492e+03 | nfev=1\n"
     ]
    },
    {
     "name": "stderr",
     "output_type": "stream",
     "text": [
      "PERFORMANCE:nlsq.optimizer.trf:Optimization: iter=1 | cost=1.501015e+03 | ‖∇f‖=6.751412e+01 | step=7.139806e+00 | nfev=2\n"
     ]
    },
    {
     "name": "stderr",
     "output_type": "stream",
     "text": [
      "PERFORMANCE:nlsq.optimizer.trf:Optimization: iter=2 | cost=1.500944e+03 | ‖∇f‖=1.609327e+00 | step=7.139806e+00 | nfev=3\n"
     ]
    },
    {
     "name": "stderr",
     "output_type": "stream",
     "text": [
      "PERFORMANCE:nlsq.least_squares:Timer: optimization took 0.023444s\n"
     ]
    },
    {
     "name": "stderr",
     "output_type": "stream",
     "text": [
      "INFO:nlsq.least_squares:Convergence: reason=`ftol` termination condition is satisfied. | iterations=None | final_cost=1.500944e+03 | time=0.023s | final_gradient_norm=0.0001140499660206018\n"
     ]
    },
    {
     "name": "stderr",
     "output_type": "stream",
     "text": [
      "PERFORMANCE:nlsq.curve_fit:Timer: curve_fit took 0.026538s\n"
     ]
    },
    {
     "name": "stderr",
     "output_type": "stream",
     "text": [
      "INFO:nlsq.curve_fit:Curve fit completed | {'total_time': 0.026538043000982725, 'final_cost': 3001.8887964631367, 'covariance_warning': False}\n"
     ]
    },
    {
     "name": "stderr",
     "output_type": "stream",
     "text": [
      "INFO:nlsq.nlsq.large_dataset:Progress: 5/10 chunks (50.0%) - ETA: 1.7s\n"
     ]
    },
    {
     "name": "stderr",
     "output_type": "stream",
     "text": [
      "INFO:nlsq.curve_fit:Starting curve fit | {'n_params': 4, 'n_data_points': 300000, 'method': 'trf', 'solver': 'auto', 'batch_size': None, 'has_bounds': False, 'dynamic_sizing': False}\n"
     ]
    },
    {
     "name": "stderr",
     "output_type": "stream",
     "text": [
      "INFO:nlsq.least_squares:Starting least squares optimization | {'method': 'trf', 'n_params': 4, 'loss': 'linear', 'ftol': 1e-08, 'xtol': 1e-08, 'gtol': 1e-08}\n"
     ]
    },
    {
     "name": "stderr",
     "output_type": "stream",
     "text": [
      "INFO:nlsq.optimizer.trf:Starting TRF optimization (no bounds) | {'n_params': 4, 'n_residuals': 300000, 'max_nfev': None}\n"
     ]
    },
    {
     "name": "stderr",
     "output_type": "stream",
     "text": [
      "PERFORMANCE:nlsq.optimizer.trf:Optimization: iter=0 | cost=1.507814e+03 | ‖∇f‖=2.157529e+03 | nfev=1\n"
     ]
    },
    {
     "name": "stderr",
     "output_type": "stream",
     "text": [
      "PERFORMANCE:nlsq.optimizer.trf:Optimization: iter=1 | cost=1.501649e+03 | ‖∇f‖=1.284823e+02 | step=7.526504e+00 | nfev=2\n"
     ]
    },
    {
     "name": "stderr",
     "output_type": "stream",
     "text": [
      "PERFORMANCE:nlsq.optimizer.trf:Optimization: iter=2 | cost=1.501623e+03 | ‖∇f‖=1.578336e+00 | step=7.526504e+00 | nfev=3\n"
     ]
    },
    {
     "name": "stderr",
     "output_type": "stream",
     "text": [
      "PERFORMANCE:nlsq.least_squares:Timer: optimization took 0.023333s\n"
     ]
    },
    {
     "name": "stderr",
     "output_type": "stream",
     "text": [
      "INFO:nlsq.least_squares:Convergence: reason=`ftol` termination condition is satisfied. | iterations=None | final_cost=1.501623e+03 | time=0.023s | final_gradient_norm=1.4717722194745875e-05\n"
     ]
    },
    {
     "name": "stderr",
     "output_type": "stream",
     "text": [
      "PERFORMANCE:nlsq.curve_fit:Timer: curve_fit took 0.026175s\n"
     ]
    },
    {
     "name": "stderr",
     "output_type": "stream",
     "text": [
      "INFO:nlsq.curve_fit:Curve fit completed | {'total_time': 0.026175285000135773, 'final_cost': 3003.2451618180557, 'covariance_warning': False}\n"
     ]
    },
    {
     "name": "stderr",
     "output_type": "stream",
     "text": [
      "INFO:nlsq.nlsq.large_dataset:Progress: 6/10 chunks (60.0%) - ETA: 1.2s\n"
     ]
    },
    {
     "name": "stderr",
     "output_type": "stream",
     "text": [
      "INFO:nlsq.curve_fit:Starting curve fit | {'n_params': 4, 'n_data_points': 300000, 'method': 'trf', 'solver': 'auto', 'batch_size': None, 'has_bounds': False, 'dynamic_sizing': False}\n"
     ]
    },
    {
     "name": "stderr",
     "output_type": "stream",
     "text": [
      "INFO:nlsq.least_squares:Starting least squares optimization | {'method': 'trf', 'n_params': 4, 'loss': 'linear', 'ftol': 1e-08, 'xtol': 1e-08, 'gtol': 1e-08}\n"
     ]
    },
    {
     "name": "stderr",
     "output_type": "stream",
     "text": [
      "INFO:nlsq.optimizer.trf:Starting TRF optimization (no bounds) | {'n_params': 4, 'n_residuals': 300000, 'max_nfev': None}\n"
     ]
    },
    {
     "name": "stderr",
     "output_type": "stream",
     "text": [
      "PERFORMANCE:nlsq.optimizer.trf:Optimization: iter=0 | cost=1.515533e+03 | ‖∇f‖=5.138368e+03 | nfev=1\n"
     ]
    },
    {
     "name": "stderr",
     "output_type": "stream",
     "text": [
      "PERFORMANCE:nlsq.optimizer.trf:Optimization: iter=1 | cost=1.502846e+03 | ‖∇f‖=1.523110e+02 | step=7.297413e+00 | nfev=2\n"
     ]
    },
    {
     "name": "stderr",
     "output_type": "stream",
     "text": [
      "PERFORMANCE:nlsq.optimizer.trf:Optimization: iter=2 | cost=1.502834e+03 | ‖∇f‖=1.459081e-01 | step=7.297413e+00 | nfev=3\n"
     ]
    },
    {
     "name": "stderr",
     "output_type": "stream",
     "text": [
      "PERFORMANCE:nlsq.least_squares:Timer: optimization took 0.022486s\n"
     ]
    },
    {
     "name": "stderr",
     "output_type": "stream",
     "text": [
      "INFO:nlsq.least_squares:Convergence: reason=`ftol` termination condition is satisfied. | iterations=None | final_cost=1.502834e+03 | time=0.022s | final_gradient_norm=3.0834183206707166e-08\n"
     ]
    },
    {
     "name": "stderr",
     "output_type": "stream",
     "text": [
      "PERFORMANCE:nlsq.curve_fit:Timer: curve_fit took 0.025938s\n"
     ]
    },
    {
     "name": "stderr",
     "output_type": "stream",
     "text": [
      "INFO:nlsq.curve_fit:Curve fit completed | {'total_time': 0.025938045999282622, 'final_cost': 3005.668644039376, 'covariance_warning': False}\n"
     ]
    },
    {
     "name": "stderr",
     "output_type": "stream",
     "text": [
      "INFO:nlsq.nlsq.large_dataset:Progress: 7/10 chunks (70.0%) - ETA: 0.8s\n"
     ]
    },
    {
     "name": "stderr",
     "output_type": "stream",
     "text": [
      "INFO:nlsq.curve_fit:Starting curve fit | {'n_params': 4, 'n_data_points': 300000, 'method': 'trf', 'solver': 'auto', 'batch_size': None, 'has_bounds': False, 'dynamic_sizing': False}\n"
     ]
    },
    {
     "name": "stderr",
     "output_type": "stream",
     "text": [
      "INFO:nlsq.least_squares:Starting least squares optimization | {'method': 'trf', 'n_params': 4, 'loss': 'linear', 'ftol': 1e-08, 'xtol': 1e-08, 'gtol': 1e-08}\n"
     ]
    },
    {
     "name": "stderr",
     "output_type": "stream",
     "text": [
      "INFO:nlsq.optimizer.trf:Starting TRF optimization (no bounds) | {'n_params': 4, 'n_residuals': 300000, 'max_nfev': None}\n"
     ]
    },
    {
     "name": "stderr",
     "output_type": "stream",
     "text": [
      "PERFORMANCE:nlsq.optimizer.trf:Optimization: iter=0 | cost=1.509024e+03 | ‖∇f‖=3.864822e+03 | nfev=1\n"
     ]
    },
    {
     "name": "stderr",
     "output_type": "stream",
     "text": [
      "PERFORMANCE:nlsq.optimizer.trf:Optimization: iter=1 | cost=1.500142e+03 | ‖∇f‖=1.830366e+02 | step=7.209229e+00 | nfev=2\n"
     ]
    },
    {
     "name": "stderr",
     "output_type": "stream",
     "text": [
      "PERFORMANCE:nlsq.optimizer.trf:Optimization: iter=2 | cost=1.500123e+03 | ‖∇f‖=7.555879e-01 | step=7.209229e+00 | nfev=3\n"
     ]
    },
    {
     "name": "stderr",
     "output_type": "stream",
     "text": [
      "PERFORMANCE:nlsq.least_squares:Timer: optimization took 0.022905s\n"
     ]
    },
    {
     "name": "stderr",
     "output_type": "stream",
     "text": [
      "INFO:nlsq.least_squares:Convergence: reason=`ftol` termination condition is satisfied. | iterations=None | final_cost=1.500123e+03 | time=0.023s | final_gradient_norm=1.937406960195176e-06\n"
     ]
    },
    {
     "name": "stderr",
     "output_type": "stream",
     "text": [
      "PERFORMANCE:nlsq.curve_fit:Timer: curve_fit took 0.025948s\n"
     ]
    },
    {
     "name": "stderr",
     "output_type": "stream",
     "text": [
      "INFO:nlsq.curve_fit:Curve fit completed | {'total_time': 0.025948014999812585, 'final_cost': 3000.24510314267, 'covariance_warning': False}\n"
     ]
    },
    {
     "name": "stderr",
     "output_type": "stream",
     "text": [
      "INFO:nlsq.nlsq.large_dataset:Progress: 8/10 chunks (80.0%) - ETA: 0.5s\n"
     ]
    },
    {
     "name": "stderr",
     "output_type": "stream",
     "text": [
      "INFO:nlsq.curve_fit:Starting curve fit | {'n_params': 4, 'n_data_points': 300000, 'method': 'trf', 'solver': 'auto', 'batch_size': None, 'has_bounds': False, 'dynamic_sizing': False}\n"
     ]
    },
    {
     "name": "stderr",
     "output_type": "stream",
     "text": [
      "INFO:nlsq.least_squares:Starting least squares optimization | {'method': 'trf', 'n_params': 4, 'loss': 'linear', 'ftol': 1e-08, 'xtol': 1e-08, 'gtol': 1e-08}\n"
     ]
    },
    {
     "name": "stderr",
     "output_type": "stream",
     "text": [
      "INFO:nlsq.optimizer.trf:Starting TRF optimization (no bounds) | {'n_params': 4, 'n_residuals': 300000, 'max_nfev': None}\n"
     ]
    },
    {
     "name": "stderr",
     "output_type": "stream",
     "text": [
      "PERFORMANCE:nlsq.optimizer.trf:Optimization: iter=0 | cost=1.503546e+03 | ‖∇f‖=5.663477e+02 | nfev=1\n"
     ]
    },
    {
     "name": "stderr",
     "output_type": "stream",
     "text": [
      "PERFORMANCE:nlsq.optimizer.trf:Optimization: iter=1 | cost=1.502491e+03 | ‖∇f‖=2.068267e+01 | step=4.921714e-01 | nfev=4\n"
     ]
    },
    {
     "name": "stderr",
     "output_type": "stream",
     "text": [
      "PERFORMANCE:nlsq.optimizer.trf:Optimization: iter=2 | cost=1.502490e+03 | ‖∇f‖=2.670321e+01 | step=1.230428e-01 | nfev=6\n"
     ]
    },
    {
     "name": "stderr",
     "output_type": "stream",
     "text": [
      "PERFORMANCE:nlsq.optimizer.trf:Optimization: iter=3 | cost=1.502489e+03 | ‖∇f‖=2.663931e+01 | step=1.230428e-01 | nfev=7\n"
     ]
    },
    {
     "name": "stderr",
     "output_type": "stream",
     "text": [
      "PERFORMANCE:nlsq.optimizer.trf:Optimization: iter=4 | cost=1.502488e+03 | ‖∇f‖=2.582217e+01 | step=1.230428e-01 | nfev=8\n"
     ]
    },
    {
     "name": "stderr",
     "output_type": "stream",
     "text": [
      "PERFORMANCE:nlsq.optimizer.trf:Optimization: iter=5 | cost=1.502487e+03 | ‖∇f‖=2.502605e+01 | step=1.230428e-01 | nfev=9\n"
     ]
    },
    {
     "name": "stderr",
     "output_type": "stream",
     "text": [
      "PERFORMANCE:nlsq.optimizer.trf:Optimization: iter=6 | cost=1.502486e+03 | ‖∇f‖=2.426374e+01 | step=1.230428e-01 | nfev=10\n"
     ]
    },
    {
     "name": "stderr",
     "output_type": "stream",
     "text": [
      "PERFORMANCE:nlsq.optimizer.trf:Optimization: iter=7 | cost=1.502485e+03 | ‖∇f‖=2.353370e+01 | step=1.230428e-01 | nfev=11\n"
     ]
    },
    {
     "name": "stderr",
     "output_type": "stream",
     "text": [
      "PERFORMANCE:nlsq.optimizer.trf:Optimization: iter=8 | cost=1.502485e+03 | ‖∇f‖=2.283433e+01 | step=1.230428e-01 | nfev=12\n"
     ]
    },
    {
     "name": "stderr",
     "output_type": "stream",
     "text": [
      "PERFORMANCE:nlsq.optimizer.trf:Optimization: iter=9 | cost=1.502484e+03 | ‖∇f‖=2.216410e+01 | step=1.230428e-01 | nfev=13\n"
     ]
    },
    {
     "name": "stderr",
     "output_type": "stream",
     "text": [
      "PERFORMANCE:nlsq.optimizer.trf:Optimization: iter=10 | cost=1.502483e+03 | ‖∇f‖=2.152158e+01 | step=1.230428e-01 | nfev=14\n"
     ]
    },
    {
     "name": "stderr",
     "output_type": "stream",
     "text": [
      "PERFORMANCE:nlsq.optimizer.trf:Optimization: iter=11 | cost=1.502483e+03 | ‖∇f‖=2.090538e+01 | step=1.230428e-01 | nfev=15\n"
     ]
    },
    {
     "name": "stderr",
     "output_type": "stream",
     "text": [
      "PERFORMANCE:nlsq.optimizer.trf:Optimization: iter=12 | cost=1.502482e+03 | ‖∇f‖=2.031421e+01 | step=1.230428e-01 | nfev=16\n"
     ]
    },
    {
     "name": "stderr",
     "output_type": "stream",
     "text": [
      "PERFORMANCE:nlsq.optimizer.trf:Optimization: iter=13 | cost=1.502481e+03 | ‖∇f‖=1.974683e+01 | step=1.230428e-01 | nfev=17\n"
     ]
    },
    {
     "name": "stderr",
     "output_type": "stream",
     "text": [
      "PERFORMANCE:nlsq.optimizer.trf:Optimization: iter=14 | cost=1.502481e+03 | ‖∇f‖=1.920206e+01 | step=1.230428e-01 | nfev=18\n"
     ]
    },
    {
     "name": "stderr",
     "output_type": "stream",
     "text": [
      "PERFORMANCE:nlsq.optimizer.trf:Optimization: iter=15 | cost=1.502480e+03 | ‖∇f‖=1.867881e+01 | step=1.230428e-01 | nfev=19\n"
     ]
    },
    {
     "name": "stderr",
     "output_type": "stream",
     "text": [
      "PERFORMANCE:nlsq.optimizer.trf:Optimization: iter=16 | cost=1.502480e+03 | ‖∇f‖=1.817603e+01 | step=1.230428e-01 | nfev=20\n"
     ]
    },
    {
     "name": "stderr",
     "output_type": "stream",
     "text": [
      "PERFORMANCE:nlsq.optimizer.trf:Optimization: iter=17 | cost=1.502479e+03 | ‖∇f‖=1.769272e+01 | step=1.230428e-01 | nfev=21\n"
     ]
    },
    {
     "name": "stderr",
     "output_type": "stream",
     "text": [
      "PERFORMANCE:nlsq.optimizer.trf:Optimization: iter=18 | cost=1.502479e+03 | ‖∇f‖=1.722794e+01 | step=1.230428e-01 | nfev=22\n"
     ]
    },
    {
     "name": "stderr",
     "output_type": "stream",
     "text": [
      "PERFORMANCE:nlsq.optimizer.trf:Optimization: iter=19 | cost=1.502479e+03 | ‖∇f‖=1.678081e+01 | step=1.230428e-01 | nfev=23\n"
     ]
    },
    {
     "name": "stderr",
     "output_type": "stream",
     "text": [
      "PERFORMANCE:nlsq.optimizer.trf:Optimization: iter=20 | cost=1.502478e+03 | ‖∇f‖=1.635050e+01 | step=1.230428e-01 | nfev=24\n"
     ]
    },
    {
     "name": "stderr",
     "output_type": "stream",
     "text": [
      "PERFORMANCE:nlsq.optimizer.trf:Optimization: iter=21 | cost=1.502478e+03 | ‖∇f‖=1.593620e+01 | step=1.230428e-01 | nfev=25\n"
     ]
    },
    {
     "name": "stderr",
     "output_type": "stream",
     "text": [
      "PERFORMANCE:nlsq.optimizer.trf:Optimization: iter=22 | cost=1.502478e+03 | ‖∇f‖=1.553716e+01 | step=1.230428e-01 | nfev=26\n"
     ]
    },
    {
     "name": "stderr",
     "output_type": "stream",
     "text": [
      "PERFORMANCE:nlsq.optimizer.trf:Optimization: iter=23 | cost=1.502477e+03 | ‖∇f‖=1.515269e+01 | step=1.230428e-01 | nfev=27\n"
     ]
    },
    {
     "name": "stderr",
     "output_type": "stream",
     "text": [
      "PERFORMANCE:nlsq.optimizer.trf:Optimization: iter=24 | cost=1.502477e+03 | ‖∇f‖=1.478209e+01 | step=1.230428e-01 | nfev=28\n"
     ]
    },
    {
     "name": "stderr",
     "output_type": "stream",
     "text": [
      "PERFORMANCE:nlsq.optimizer.trf:Optimization: iter=25 | cost=1.502477e+03 | ‖∇f‖=1.442474e+01 | step=1.230428e-01 | nfev=29\n"
     ]
    },
    {
     "name": "stderr",
     "output_type": "stream",
     "text": [
      "PERFORMANCE:nlsq.optimizer.trf:Optimization: iter=26 | cost=1.502476e+03 | ‖∇f‖=1.408004e+01 | step=1.230428e-01 | nfev=30\n"
     ]
    },
    {
     "name": "stderr",
     "output_type": "stream",
     "text": [
      "PERFORMANCE:nlsq.optimizer.trf:Optimization: iter=27 | cost=1.502476e+03 | ‖∇f‖=1.374741e+01 | step=1.230428e-01 | nfev=31\n"
     ]
    },
    {
     "name": "stderr",
     "output_type": "stream",
     "text": [
      "PERFORMANCE:nlsq.optimizer.trf:Optimization: iter=28 | cost=1.502476e+03 | ‖∇f‖=1.342632e+01 | step=1.230428e-01 | nfev=32\n"
     ]
    },
    {
     "name": "stderr",
     "output_type": "stream",
     "text": [
      "PERFORMANCE:nlsq.optimizer.trf:Optimization: iter=29 | cost=1.502476e+03 | ‖∇f‖=1.311625e+01 | step=1.230428e-01 | nfev=33\n"
     ]
    },
    {
     "name": "stderr",
     "output_type": "stream",
     "text": [
      "PERFORMANCE:nlsq.optimizer.trf:Optimization: iter=30 | cost=1.502475e+03 | ‖∇f‖=1.281672e+01 | step=1.230428e-01 | nfev=34\n"
     ]
    },
    {
     "name": "stderr",
     "output_type": "stream",
     "text": [
      "PERFORMANCE:nlsq.optimizer.trf:Optimization: iter=31 | cost=1.502475e+03 | ‖∇f‖=1.252726e+01 | step=1.230428e-01 | nfev=35\n"
     ]
    },
    {
     "name": "stderr",
     "output_type": "stream",
     "text": [
      "PERFORMANCE:nlsq.optimizer.trf:Optimization: iter=32 | cost=1.502475e+03 | ‖∇f‖=1.224745e+01 | step=1.230428e-01 | nfev=36\n"
     ]
    },
    {
     "name": "stderr",
     "output_type": "stream",
     "text": [
      "PERFORMANCE:nlsq.optimizer.trf:Optimization: iter=33 | cost=1.502475e+03 | ‖∇f‖=1.197687e+01 | step=1.230428e-01 | nfev=37\n"
     ]
    },
    {
     "name": "stderr",
     "output_type": "stream",
     "text": [
      "PERFORMANCE:nlsq.optimizer.trf:Optimization: iter=34 | cost=1.502475e+03 | ‖∇f‖=1.171512e+01 | step=1.230428e-01 | nfev=38\n"
     ]
    },
    {
     "name": "stderr",
     "output_type": "stream",
     "text": [
      "PERFORMANCE:nlsq.optimizer.trf:Optimization: iter=35 | cost=1.502474e+03 | ‖∇f‖=1.146184e+01 | step=1.230428e-01 | nfev=39\n"
     ]
    },
    {
     "name": "stderr",
     "output_type": "stream",
     "text": [
      "PERFORMANCE:nlsq.optimizer.trf:Optimization: iter=36 | cost=1.502474e+03 | ‖∇f‖=1.121667e+01 | step=1.230428e-01 | nfev=40\n"
     ]
    },
    {
     "name": "stderr",
     "output_type": "stream",
     "text": [
      "PERFORMANCE:nlsq.optimizer.trf:Optimization: iter=37 | cost=1.502474e+03 | ‖∇f‖=1.097927e+01 | step=1.230428e-01 | nfev=41\n"
     ]
    },
    {
     "name": "stderr",
     "output_type": "stream",
     "text": [
      "PERFORMANCE:nlsq.optimizer.trf:Optimization: iter=38 | cost=1.502474e+03 | ‖∇f‖=1.074932e+01 | step=1.230428e-01 | nfev=42\n"
     ]
    },
    {
     "name": "stderr",
     "output_type": "stream",
     "text": [
      "PERFORMANCE:nlsq.optimizer.trf:Optimization: iter=39 | cost=1.502474e+03 | ‖∇f‖=1.052653e+01 | step=1.230428e-01 | nfev=43\n"
     ]
    },
    {
     "name": "stderr",
     "output_type": "stream",
     "text": [
      "PERFORMANCE:nlsq.optimizer.trf:Optimization: iter=40 | cost=1.502474e+03 | ‖∇f‖=1.031060e+01 | step=1.230428e-01 | nfev=44\n"
     ]
    },
    {
     "name": "stderr",
     "output_type": "stream",
     "text": [
      "PERFORMANCE:nlsq.optimizer.trf:Optimization: iter=41 | cost=1.502474e+03 | ‖∇f‖=1.010125e+01 | step=1.230428e-01 | nfev=45\n"
     ]
    },
    {
     "name": "stderr",
     "output_type": "stream",
     "text": [
      "PERFORMANCE:nlsq.optimizer.trf:Optimization: iter=42 | cost=1.502473e+03 | ‖∇f‖=9.898236e+00 | step=1.230428e-01 | nfev=46\n"
     ]
    },
    {
     "name": "stderr",
     "output_type": "stream",
     "text": [
      "PERFORMANCE:nlsq.optimizer.trf:Optimization: iter=43 | cost=1.502473e+03 | ‖∇f‖=9.701295e+00 | step=1.230428e-01 | nfev=47\n"
     ]
    },
    {
     "name": "stderr",
     "output_type": "stream",
     "text": [
      "PERFORMANCE:nlsq.optimizer.trf:Optimization: iter=44 | cost=1.502473e+03 | ‖∇f‖=9.510193e+00 | step=1.230428e-01 | nfev=48\n"
     ]
    },
    {
     "name": "stderr",
     "output_type": "stream",
     "text": [
      "PERFORMANCE:nlsq.optimizer.trf:Optimization: iter=45 | cost=1.502473e+03 | ‖∇f‖=9.324706e+00 | step=1.230428e-01 | nfev=49\n"
     ]
    },
    {
     "name": "stderr",
     "output_type": "stream",
     "text": [
      "PERFORMANCE:nlsq.optimizer.trf:Optimization: iter=46 | cost=1.502473e+03 | ‖∇f‖=9.144616e+00 | step=1.230428e-01 | nfev=50\n"
     ]
    },
    {
     "name": "stderr",
     "output_type": "stream",
     "text": [
      "PERFORMANCE:nlsq.optimizer.trf:Optimization: iter=47 | cost=1.502473e+03 | ‖∇f‖=8.969721e+00 | step=1.230428e-01 | nfev=51\n"
     ]
    },
    {
     "name": "stderr",
     "output_type": "stream",
     "text": [
      "PERFORMANCE:nlsq.optimizer.trf:Optimization: iter=48 | cost=1.502473e+03 | ‖∇f‖=8.799822e+00 | step=1.230428e-01 | nfev=52\n"
     ]
    },
    {
     "name": "stderr",
     "output_type": "stream",
     "text": [
      "PERFORMANCE:nlsq.optimizer.trf:Optimization: iter=49 | cost=1.502473e+03 | ‖∇f‖=8.634734e+00 | step=1.230428e-01 | nfev=53\n"
     ]
    },
    {
     "name": "stderr",
     "output_type": "stream",
     "text": [
      "PERFORMANCE:nlsq.optimizer.trf:Optimization: iter=50 | cost=1.502473e+03 | ‖∇f‖=8.474278e+00 | step=1.230428e-01 | nfev=54\n"
     ]
    },
    {
     "name": "stderr",
     "output_type": "stream",
     "text": [
      "PERFORMANCE:nlsq.optimizer.trf:Optimization: iter=51 | cost=1.502473e+03 | ‖∇f‖=8.318284e+00 | step=1.230428e-01 | nfev=55\n"
     ]
    },
    {
     "name": "stderr",
     "output_type": "stream",
     "text": [
      "PERFORMANCE:nlsq.optimizer.trf:Optimization: iter=52 | cost=1.502472e+03 | ‖∇f‖=8.166590e+00 | step=1.230428e-01 | nfev=56\n"
     ]
    },
    {
     "name": "stderr",
     "output_type": "stream",
     "text": [
      "PERFORMANCE:nlsq.optimizer.trf:Optimization: iter=53 | cost=1.502472e+03 | ‖∇f‖=8.019039e+00 | step=1.230428e-01 | nfev=57\n"
     ]
    },
    {
     "name": "stderr",
     "output_type": "stream",
     "text": [
      "PERFORMANCE:nlsq.optimizer.trf:Optimization: iter=54 | cost=1.502472e+03 | ‖∇f‖=7.875483e+00 | step=1.230428e-01 | nfev=58\n"
     ]
    },
    {
     "name": "stderr",
     "output_type": "stream",
     "text": [
      "PERFORMANCE:nlsq.optimizer.trf:Optimization: iter=55 | cost=1.502472e+03 | ‖∇f‖=7.735780e+00 | step=1.230428e-01 | nfev=59\n"
     ]
    },
    {
     "name": "stderr",
     "output_type": "stream",
     "text": [
      "PERFORMANCE:nlsq.optimizer.trf:Optimization: iter=56 | cost=1.502472e+03 | ‖∇f‖=7.599795e+00 | step=1.230428e-01 | nfev=60\n"
     ]
    },
    {
     "name": "stderr",
     "output_type": "stream",
     "text": [
      "PERFORMANCE:nlsq.optimizer.trf:Optimization: iter=57 | cost=1.502472e+03 | ‖∇f‖=7.467396e+00 | step=1.230428e-01 | nfev=61\n"
     ]
    },
    {
     "name": "stderr",
     "output_type": "stream",
     "text": [
      "PERFORMANCE:nlsq.optimizer.trf:Optimization: iter=58 | cost=1.502472e+03 | ‖∇f‖=7.338460e+00 | step=1.230428e-01 | nfev=62\n"
     ]
    },
    {
     "name": "stderr",
     "output_type": "stream",
     "text": [
      "PERFORMANCE:nlsq.optimizer.trf:Optimization: iter=59 | cost=1.502472e+03 | ‖∇f‖=7.212868e+00 | step=1.230428e-01 | nfev=63\n"
     ]
    },
    {
     "name": "stderr",
     "output_type": "stream",
     "text": [
      "PERFORMANCE:nlsq.optimizer.trf:Optimization: iter=60 | cost=1.502472e+03 | ‖∇f‖=7.090505e+00 | step=1.230428e-01 | nfev=64\n"
     ]
    },
    {
     "name": "stderr",
     "output_type": "stream",
     "text": [
      "PERFORMANCE:nlsq.optimizer.trf:Optimization: iter=61 | cost=1.502472e+03 | ‖∇f‖=6.971261e+00 | step=1.230428e-01 | nfev=65\n"
     ]
    },
    {
     "name": "stderr",
     "output_type": "stream",
     "text": [
      "PERFORMANCE:nlsq.optimizer.trf:Optimization: iter=62 | cost=1.502472e+03 | ‖∇f‖=6.855033e+00 | step=1.230428e-01 | nfev=66\n"
     ]
    },
    {
     "name": "stderr",
     "output_type": "stream",
     "text": [
      "PERFORMANCE:nlsq.optimizer.trf:Optimization: iter=63 | cost=1.502472e+03 | ‖∇f‖=6.741719e+00 | step=1.230428e-01 | nfev=67\n"
     ]
    },
    {
     "name": "stderr",
     "output_type": "stream",
     "text": [
      "PERFORMANCE:nlsq.optimizer.trf:Optimization: iter=64 | cost=1.502472e+03 | ‖∇f‖=6.631224e+00 | step=1.230428e-01 | nfev=68\n"
     ]
    },
    {
     "name": "stderr",
     "output_type": "stream",
     "text": [
      "PERFORMANCE:nlsq.optimizer.trf:Optimization: iter=65 | cost=1.502472e+03 | ‖∇f‖=6.523453e+00 | step=1.230428e-01 | nfev=69\n"
     ]
    },
    {
     "name": "stderr",
     "output_type": "stream",
     "text": [
      "PERFORMANCE:nlsq.optimizer.trf:Optimization: iter=66 | cost=1.502472e+03 | ‖∇f‖=6.418320e+00 | step=1.230428e-01 | nfev=70\n"
     ]
    },
    {
     "name": "stderr",
     "output_type": "stream",
     "text": [
      "PERFORMANCE:nlsq.optimizer.trf:Optimization: iter=67 | cost=1.502472e+03 | ‖∇f‖=6.315738e+00 | step=1.230428e-01 | nfev=71\n"
     ]
    },
    {
     "name": "stderr",
     "output_type": "stream",
     "text": [
      "PERFORMANCE:nlsq.optimizer.trf:Optimization: iter=68 | cost=1.502472e+03 | ‖∇f‖=6.215626e+00 | step=1.230428e-01 | nfev=72\n"
     ]
    },
    {
     "name": "stderr",
     "output_type": "stream",
     "text": [
      "PERFORMANCE:nlsq.optimizer.trf:Optimization: iter=69 | cost=1.502472e+03 | ‖∇f‖=6.117906e+00 | step=1.230428e-01 | nfev=73\n"
     ]
    },
    {
     "name": "stderr",
     "output_type": "stream",
     "text": [
      "PERFORMANCE:nlsq.optimizer.trf:Optimization: iter=70 | cost=1.502472e+03 | ‖∇f‖=6.022501e+00 | step=1.230428e-01 | nfev=74\n"
     ]
    },
    {
     "name": "stderr",
     "output_type": "stream",
     "text": [
      "PERFORMANCE:nlsq.optimizer.trf:Optimization: iter=71 | cost=1.502472e+03 | ‖∇f‖=5.929339e+00 | step=1.230428e-01 | nfev=75\n"
     ]
    },
    {
     "name": "stderr",
     "output_type": "stream",
     "text": [
      "PERFORMANCE:nlsq.optimizer.trf:Optimization: iter=72 | cost=1.502472e+03 | ‖∇f‖=5.838350e+00 | step=1.230428e-01 | nfev=76\n"
     ]
    },
    {
     "name": "stderr",
     "output_type": "stream",
     "text": [
      "PERFORMANCE:nlsq.optimizer.trf:Optimization: iter=73 | cost=1.502471e+03 | ‖∇f‖=5.749468e+00 | step=1.230428e-01 | nfev=77\n"
     ]
    },
    {
     "name": "stderr",
     "output_type": "stream",
     "text": [
      "PERFORMANCE:nlsq.optimizer.trf:Optimization: iter=74 | cost=1.502471e+03 | ‖∇f‖=5.662627e+00 | step=1.230428e-01 | nfev=78\n"
     ]
    },
    {
     "name": "stderr",
     "output_type": "stream",
     "text": [
      "PERFORMANCE:nlsq.optimizer.trf:Optimization: iter=75 | cost=1.502471e+03 | ‖∇f‖=5.577766e+00 | step=1.230428e-01 | nfev=79\n"
     ]
    },
    {
     "name": "stderr",
     "output_type": "stream",
     "text": [
      "PERFORMANCE:nlsq.optimizer.trf:Optimization: iter=76 | cost=1.502471e+03 | ‖∇f‖=5.494824e+00 | step=1.230428e-01 | nfev=80\n"
     ]
    },
    {
     "name": "stderr",
     "output_type": "stream",
     "text": [
      "PERFORMANCE:nlsq.optimizer.trf:Optimization: iter=77 | cost=1.502471e+03 | ‖∇f‖=5.413745e+00 | step=1.230428e-01 | nfev=81\n"
     ]
    },
    {
     "name": "stderr",
     "output_type": "stream",
     "text": [
      "PERFORMANCE:nlsq.optimizer.trf:Optimization: iter=78 | cost=1.502471e+03 | ‖∇f‖=5.334473e+00 | step=1.230428e-01 | nfev=82\n"
     ]
    },
    {
     "name": "stderr",
     "output_type": "stream",
     "text": [
      "PERFORMANCE:nlsq.optimizer.trf:Optimization: iter=79 | cost=1.502471e+03 | ‖∇f‖=5.256954e+00 | step=1.230428e-01 | nfev=83\n"
     ]
    },
    {
     "name": "stderr",
     "output_type": "stream",
     "text": [
      "PERFORMANCE:nlsq.optimizer.trf:Optimization: iter=80 | cost=1.502471e+03 | ‖∇f‖=5.181137e+00 | step=1.230428e-01 | nfev=84\n"
     ]
    },
    {
     "name": "stderr",
     "output_type": "stream",
     "text": [
      "PERFORMANCE:nlsq.optimizer.trf:Optimization: iter=81 | cost=1.502471e+03 | ‖∇f‖=5.106973e+00 | step=1.230428e-01 | nfev=85\n"
     ]
    },
    {
     "name": "stderr",
     "output_type": "stream",
     "text": [
      "PERFORMANCE:nlsq.optimizer.trf:Optimization: iter=82 | cost=1.502471e+03 | ‖∇f‖=5.034413e+00 | step=1.230428e-01 | nfev=86\n"
     ]
    },
    {
     "name": "stderr",
     "output_type": "stream",
     "text": [
      "PERFORMANCE:nlsq.optimizer.trf:Optimization: iter=83 | cost=1.502471e+03 | ‖∇f‖=4.963412e+00 | step=1.230428e-01 | nfev=87\n"
     ]
    },
    {
     "name": "stderr",
     "output_type": "stream",
     "text": [
      "PERFORMANCE:nlsq.optimizer.trf:Optimization: iter=84 | cost=1.502471e+03 | ‖∇f‖=4.893925e+00 | step=1.230428e-01 | nfev=88\n"
     ]
    },
    {
     "name": "stderr",
     "output_type": "stream",
     "text": [
      "PERFORMANCE:nlsq.least_squares:Timer: optimization took 0.615041s\n"
     ]
    },
    {
     "name": "stderr",
     "output_type": "stream",
     "text": [
      "INFO:nlsq.least_squares:Convergence: reason=`ftol` termination condition is satisfied. | iterations=None | final_cost=1.502471e+03 | time=0.615s | final_gradient_norm=4.825909375217147\n"
     ]
    },
    {
     "name": "stderr",
     "output_type": "stream",
     "text": [
      "PERFORMANCE:nlsq.curve_fit:Timer: curve_fit took 0.617864s\n"
     ]
    },
    {
     "name": "stderr",
     "output_type": "stream",
     "text": [
      "INFO:nlsq.curve_fit:Curve fit completed | {'total_time': 0.6178641419992346, 'final_cost': 3004.9424817763456, 'covariance_warning': False}\n"
     ]
    },
    {
     "name": "stderr",
     "output_type": "stream",
     "text": [
      "INFO:nlsq.nlsq.large_dataset:Progress: 9/10 chunks (90.0%) - ETA: 0.3s\n"
     ]
    },
    {
     "name": "stderr",
     "output_type": "stream",
     "text": [
      "INFO:nlsq.curve_fit:Starting curve fit | {'n_params': 4, 'n_data_points': 300000, 'method': 'trf', 'solver': 'auto', 'batch_size': None, 'has_bounds': False, 'dynamic_sizing': False}\n"
     ]
    },
    {
     "name": "stderr",
     "output_type": "stream",
     "text": [
      "INFO:nlsq.least_squares:Starting least squares optimization | {'method': 'trf', 'n_params': 4, 'loss': 'linear', 'ftol': 1e-08, 'xtol': 1e-08, 'gtol': 1e-08}\n"
     ]
    },
    {
     "name": "stderr",
     "output_type": "stream",
     "text": [
      "INFO:nlsq.optimizer.trf:Starting TRF optimization (no bounds) | {'n_params': 4, 'n_residuals': 300000, 'max_nfev': None}\n"
     ]
    },
    {
     "name": "stderr",
     "output_type": "stream",
     "text": [
      "PERFORMANCE:nlsq.optimizer.trf:Optimization: iter=0 | cost=1.514353e+03 | ‖∇f‖=1.976299e+03 | nfev=1\n"
     ]
    },
    {
     "name": "stderr",
     "output_type": "stream",
     "text": [
      "PERFORMANCE:nlsq.optimizer.trf:Optimization: iter=1 | cost=1.508080e+03 | ‖∇f‖=9.017379e+02 | step=7.840723e+00 | nfev=3\n"
     ]
    },
    {
     "name": "stderr",
     "output_type": "stream",
     "text": [
      "PERFORMANCE:nlsq.optimizer.trf:Optimization: iter=2 | cost=1.506112e+03 | ‖∇f‖=6.145893e+01 | step=3.920361e+00 | nfev=5\n"
     ]
    },
    {
     "name": "stderr",
     "output_type": "stream",
     "text": [
      "PERFORMANCE:nlsq.optimizer.trf:Optimization: iter=3 | cost=1.506105e+03 | ‖∇f‖=1.858933e+01 | step=1.960181e+00 | nfev=7\n"
     ]
    },
    {
     "name": "stderr",
     "output_type": "stream",
     "text": [
      "PERFORMANCE:nlsq.optimizer.trf:Optimization: iter=4 | cost=1.506104e+03 | ‖∇f‖=4.334070e+00 | step=9.800904e-01 | nfev=9\n"
     ]
    },
    {
     "name": "stderr",
     "output_type": "stream",
     "text": [
      "PERFORMANCE:nlsq.optimizer.trf:Optimization: iter=5 | cost=1.506104e+03 | ‖∇f‖=1.042040e+00 | step=4.900452e-01 | nfev=11\n"
     ]
    },
    {
     "name": "stderr",
     "output_type": "stream",
     "text": [
      "PERFORMANCE:nlsq.least_squares:Timer: optimization took 0.046936s\n"
     ]
    },
    {
     "name": "stderr",
     "output_type": "stream",
     "text": [
      "INFO:nlsq.least_squares:Convergence: reason=`ftol` termination condition is satisfied. | iterations=None | final_cost=1.506104e+03 | time=0.047s | final_gradient_norm=0.25547176300578656\n"
     ]
    },
    {
     "name": "stderr",
     "output_type": "stream",
     "text": [
      "PERFORMANCE:nlsq.curve_fit:Timer: curve_fit took 0.049545s\n"
     ]
    },
    {
     "name": "stderr",
     "output_type": "stream",
     "text": [
      "INFO:nlsq.curve_fit:Curve fit completed | {'total_time': 0.04954509700110066, 'final_cost': 3012.2084416558946, 'covariance_warning': False}\n"
     ]
    },
    {
     "name": "stderr",
     "output_type": "stream",
     "text": [
      "INFO:nlsq.nlsq.large_dataset:Progress: 10/10 chunks (100.0%) - ETA: 0.0s\n"
     ]
    },
    {
     "name": "stderr",
     "output_type": "stream",
     "text": [
      "INFO:nlsq.nlsq.large_dataset:Chunked fit completed with 100.0% success rate\n"
     ]
    },
    {
     "name": "stdout",
     "output_type": "stream",
     "text": [
      "\n",
      "✅ curve_fit_large completed in 2.81 seconds\n",
      "Fitted parameters: [22.91920679  3.25963575  1.8053707   0.49727729]\n",
      "Absolute errors: [1.79192068e+01 1.74036425e+00 3.05370696e-01 2.72270809e-03]\n",
      "Relative errors: [358.38413589  34.80728503  20.35804638   0.54454162]%\n",
      "Parameter uncertainties (std): [6.15079165 0.810103   0.16448884 0.13548504]\n"
     ]
    }
   ],
   "source": [
    "def demo_curve_fit_large():\n",
    "    \"\"\"Demonstrate the curve_fit_large convenience function.\"\"\"\n",
    "    print(\"\\n\" + \"=\" * 60)\n",
    "    print(\"CURVE_FIT_LARGE CONVENIENCE FUNCTION DEMO\")\n",
    "    print(\"=\" * 60)\n",
    "\n",
    "    # Generate test dataset\n",
    "    print(\"Generating 3M point dataset for curve_fit_large demo...\")\n",
    "    np.random.seed(789)\n",
    "    n_points = 3_000_000\n",
    "    x_data = np.linspace(0, 10, n_points, dtype=np.float64)\n",
    "\n",
    "    true_params = [5.0, 5.0, 1.5, 0.5]\n",
    "    y_true = gaussian(x_data, *true_params)\n",
    "    y_data = y_true + np.random.normal(0, 0.1, n_points)\n",
    "\n",
    "    print(f\"Dataset: {n_points:,} points\")\n",
    "    print(\n",
    "        f\"True parameters: a={true_params[0]:.2f}, mu={true_params[1]:.2f}, sigma={true_params[2]:.2f}, offset={true_params[3]:.2f}\"\n",
    "    )\n",
    "\n",
    "    # Use curve_fit_large - automatic large dataset handling\n",
    "    print(\"\\nUsing curve_fit_large with automatic optimization...\")\n",
    "    start_time = time.time()\n",
    "\n",
    "    popt, pcov = curve_fit_large(\n",
    "        gaussian,\n",
    "        x_data,\n",
    "        y_data,\n",
    "        p0=[4.5, 4.8, 1.3, 0.4],\n",
    "        memory_limit_gb=1.0,  # Force chunking with low memory limit\n",
    "        show_progress=True,\n",
    "        auto_size_detection=True,  # Automatically detect large dataset\n",
    "    )\n",
    "\n",
    "    fit_time = time.time() - start_time\n",
    "\n",
    "    errors = np.abs(popt - np.array(true_params))\n",
    "    rel_errors = errors / np.array(true_params) * 100\n",
    "\n",
    "    print(f\"\\n✅ curve_fit_large completed in {fit_time:.2f} seconds\")\n",
    "    print(f\"Fitted parameters: {popt}\")\n",
    "    print(f\"Absolute errors: {errors}\")\n",
    "    print(f\"Relative errors: {rel_errors}%\")\n",
    "\n",
    "    # Show parameter uncertainties from covariance matrix\n",
    "    param_std = np.sqrt(np.diag(pcov))\n",
    "    print(f\"Parameter uncertainties (std): {param_std}\")\n",
    "\n",
    "\n",
    "# Run the demo\n",
    "demo_curve_fit_large()"
   ]
  },
  {
   "cell_type": "markdown",
   "metadata": {},
   "source": [
    "## 6. Performance Comparison\n",
    "\n",
    "Let's compare different approaches for various dataset sizes."
   ]
  },
  {
   "cell_type": "code",
   "execution_count": 9,
   "metadata": {
    "execution": {
     "iopub.execute_input": "2025-10-08T19:57:46.836256Z",
     "iopub.status.busy": "2025-10-08T19:57:46.836107Z",
     "iopub.status.idle": "2025-10-08T19:57:48.730731Z",
     "shell.execute_reply": "2025-10-08T19:57:48.730361Z"
    }
   },
   "outputs": [
    {
     "name": "stderr",
     "output_type": "stream",
     "text": [
      "INFO:nlsq.nlsq.large_dataset:Dataset analysis for 10,000 points, 3 parameters:\n"
     ]
    },
    {
     "name": "stderr",
     "output_type": "stream",
     "text": [
      "INFO:nlsq.nlsq.large_dataset:  Estimated memory per point: 146.0 bytes\n"
     ]
    },
    {
     "name": "stderr",
     "output_type": "stream",
     "text": [
      "INFO:nlsq.nlsq.large_dataset:  Total memory estimate: 0.00 GB\n"
     ]
    },
    {
     "name": "stderr",
     "output_type": "stream",
     "text": [
      "INFO:nlsq.nlsq.large_dataset:  Recommended chunk size: 10,000\n"
     ]
    },
    {
     "name": "stderr",
     "output_type": "stream",
     "text": [
      "INFO:nlsq.nlsq.large_dataset:  Number of chunks: 1\n"
     ]
    },
    {
     "name": "stderr",
     "output_type": "stream",
     "text": [
      "INFO:nlsq.nlsq.large_dataset:Fitting dataset in single chunk\n"
     ]
    },
    {
     "name": "stderr",
     "output_type": "stream",
     "text": [
      "INFO:nlsq.curve_fit:Starting curve fit | {'n_params': 3, 'n_data_points': 10000, 'method': 'trf', 'solver': 'auto', 'batch_size': None, 'has_bounds': False, 'dynamic_sizing': False}\n"
     ]
    },
    {
     "name": "stderr",
     "output_type": "stream",
     "text": [
      "INFO:nlsq.least_squares:Starting least squares optimization | {'method': 'trf', 'n_params': 3, 'loss': 'linear', 'ftol': 1e-08, 'xtol': 1e-08, 'gtol': 1e-08}\n"
     ]
    },
    {
     "name": "stderr",
     "output_type": "stream",
     "text": [
      "INFO:nlsq.optimizer.trf:Starting TRF optimization (no bounds) | {'n_params': 3, 'n_residuals': 10000, 'max_nfev': None}\n"
     ]
    },
    {
     "name": "stdout",
     "output_type": "stream",
     "text": [
      "\n",
      "============================================================\n",
      "PERFORMANCE COMPARISON\n",
      "============================================================\n",
      "\n",
      "      Size     Time (s)  Memory (GB)             Strategy\n",
      "-------------------------------------------------------\n"
     ]
    },
    {
     "name": "stderr",
     "output_type": "stream",
     "text": [
      "PERFORMANCE:nlsq.optimizer.trf:Optimization: iter=0 | cost=1.021853e+02 | ‖∇f‖=8.154136e+02 | nfev=1\n"
     ]
    },
    {
     "name": "stderr",
     "output_type": "stream",
     "text": [
      "PERFORMANCE:nlsq.optimizer.trf:Optimization: iter=1 | cost=1.299780e+01 | ‖∇f‖=6.470948e+01 | step=2.578759e+00 | nfev=2\n"
     ]
    },
    {
     "name": "stderr",
     "output_type": "stream",
     "text": [
      "PERFORMANCE:nlsq.optimizer.trf:Optimization: iter=2 | cost=1.258256e+01 | ‖∇f‖=2.461242e+00 | step=2.578759e+00 | nfev=3\n"
     ]
    },
    {
     "name": "stderr",
     "output_type": "stream",
     "text": [
      "PERFORMANCE:nlsq.optimizer.trf:Optimization: iter=3 | cost=1.258219e+01 | ‖∇f‖=1.556516e-03 | step=2.578759e+00 | nfev=4\n"
     ]
    },
    {
     "name": "stderr",
     "output_type": "stream",
     "text": [
      "PERFORMANCE:nlsq.least_squares:Timer: optimization took 0.355722s\n"
     ]
    },
    {
     "name": "stderr",
     "output_type": "stream",
     "text": [
      "INFO:nlsq.least_squares:Convergence: reason=`ftol` termination condition is satisfied. | iterations=None | final_cost=1.258219e+01 | time=0.356s | final_gradient_norm=9.389295278553617e-06\n"
     ]
    },
    {
     "name": "stderr",
     "output_type": "stream",
     "text": [
      "PERFORMANCE:nlsq.curve_fit:Timer: curve_fit took 0.522288s\n"
     ]
    },
    {
     "name": "stderr",
     "output_type": "stream",
     "text": [
      "INFO:nlsq.curve_fit:Curve fit completed | {'total_time': 0.52228847600054, 'final_cost': 25.164388103806253, 'covariance_warning': False}\n"
     ]
    },
    {
     "name": "stderr",
     "output_type": "stream",
     "text": [
      "INFO:nlsq.nlsq.large_dataset:Dataset analysis for 100,000 points, 3 parameters:\n"
     ]
    },
    {
     "name": "stderr",
     "output_type": "stream",
     "text": [
      "INFO:nlsq.nlsq.large_dataset:  Estimated memory per point: 146.0 bytes\n"
     ]
    },
    {
     "name": "stderr",
     "output_type": "stream",
     "text": [
      "INFO:nlsq.nlsq.large_dataset:  Total memory estimate: 0.01 GB\n"
     ]
    },
    {
     "name": "stderr",
     "output_type": "stream",
     "text": [
      "INFO:nlsq.nlsq.large_dataset:  Recommended chunk size: 100,000\n"
     ]
    },
    {
     "name": "stderr",
     "output_type": "stream",
     "text": [
      "INFO:nlsq.nlsq.large_dataset:  Number of chunks: 1\n"
     ]
    },
    {
     "name": "stderr",
     "output_type": "stream",
     "text": [
      "INFO:nlsq.nlsq.large_dataset:Fitting dataset in single chunk\n"
     ]
    },
    {
     "name": "stderr",
     "output_type": "stream",
     "text": [
      "INFO:nlsq.curve_fit:Starting curve fit | {'n_params': 3, 'n_data_points': 100000, 'method': 'trf', 'solver': 'auto', 'batch_size': None, 'has_bounds': False, 'dynamic_sizing': False}\n"
     ]
    },
    {
     "name": "stderr",
     "output_type": "stream",
     "text": [
      "INFO:nlsq.least_squares:Starting least squares optimization | {'method': 'trf', 'n_params': 3, 'loss': 'linear', 'ftol': 1e-08, 'xtol': 1e-08, 'gtol': 1e-08}\n"
     ]
    },
    {
     "name": "stderr",
     "output_type": "stream",
     "text": [
      "INFO:nlsq.optimizer.trf:Starting TRF optimization (no bounds) | {'n_params': 3, 'n_residuals': 100000, 'max_nfev': None}\n"
     ]
    },
    {
     "name": "stdout",
     "output_type": "stream",
     "text": [
      "    10,000        0.583        0.001         Single chunk\n"
     ]
    },
    {
     "name": "stderr",
     "output_type": "stream",
     "text": [
      "PERFORMANCE:nlsq.optimizer.trf:Optimization: iter=0 | cost=1.028850e+03 | ‖∇f‖=8.171703e+03 | nfev=1\n"
     ]
    },
    {
     "name": "stderr",
     "output_type": "stream",
     "text": [
      "PERFORMANCE:nlsq.optimizer.trf:Optimization: iter=1 | cost=1.294961e+02 | ‖∇f‖=6.602263e+02 | step=2.578759e+00 | nfev=2\n"
     ]
    },
    {
     "name": "stderr",
     "output_type": "stream",
     "text": [
      "PERFORMANCE:nlsq.optimizer.trf:Optimization: iter=2 | cost=1.252290e+02 | ‖∇f‖=2.620611e+01 | step=2.578759e+00 | nfev=3\n"
     ]
    },
    {
     "name": "stderr",
     "output_type": "stream",
     "text": [
      "PERFORMANCE:nlsq.optimizer.trf:Optimization: iter=3 | cost=1.252250e+02 | ‖∇f‖=5.504848e-03 | step=2.578759e+00 | nfev=4\n"
     ]
    },
    {
     "name": "stderr",
     "output_type": "stream",
     "text": [
      "PERFORMANCE:nlsq.least_squares:Timer: optimization took 0.332195s\n"
     ]
    },
    {
     "name": "stderr",
     "output_type": "stream",
     "text": [
      "INFO:nlsq.least_squares:Convergence: reason=`ftol` termination condition is satisfied. | iterations=None | final_cost=1.252250e+02 | time=0.332s | final_gradient_norm=7.840627693767033e-07\n"
     ]
    },
    {
     "name": "stderr",
     "output_type": "stream",
     "text": [
      "PERFORMANCE:nlsq.curve_fit:Timer: curve_fit took 0.508831s\n"
     ]
    },
    {
     "name": "stderr",
     "output_type": "stream",
     "text": [
      "INFO:nlsq.curve_fit:Curve fit completed | {'total_time': 0.5088305190001847, 'final_cost': 250.4500790907697, 'covariance_warning': False}\n"
     ]
    },
    {
     "name": "stderr",
     "output_type": "stream",
     "text": [
      "INFO:nlsq.nlsq.large_dataset:Dataset analysis for 500,000 points, 3 parameters:\n"
     ]
    },
    {
     "name": "stderr",
     "output_type": "stream",
     "text": [
      "INFO:nlsq.nlsq.large_dataset:  Estimated memory per point: 146.0 bytes\n"
     ]
    },
    {
     "name": "stderr",
     "output_type": "stream",
     "text": [
      "INFO:nlsq.nlsq.large_dataset:  Total memory estimate: 0.07 GB\n"
     ]
    },
    {
     "name": "stderr",
     "output_type": "stream",
     "text": [
      "INFO:nlsq.nlsq.large_dataset:  Recommended chunk size: 500,000\n"
     ]
    },
    {
     "name": "stderr",
     "output_type": "stream",
     "text": [
      "INFO:nlsq.nlsq.large_dataset:  Number of chunks: 1\n"
     ]
    },
    {
     "name": "stderr",
     "output_type": "stream",
     "text": [
      "INFO:nlsq.nlsq.large_dataset:Fitting dataset in single chunk\n"
     ]
    },
    {
     "name": "stderr",
     "output_type": "stream",
     "text": [
      "INFO:nlsq.curve_fit:Starting curve fit | {'n_params': 3, 'n_data_points': 500000, 'method': 'trf', 'solver': 'auto', 'batch_size': None, 'has_bounds': False, 'dynamic_sizing': False}\n"
     ]
    },
    {
     "name": "stderr",
     "output_type": "stream",
     "text": [
      "INFO:nlsq.least_squares:Starting least squares optimization | {'method': 'trf', 'n_params': 3, 'loss': 'linear', 'ftol': 1e-08, 'xtol': 1e-08, 'gtol': 1e-08}\n"
     ]
    },
    {
     "name": "stdout",
     "output_type": "stream",
     "text": [
      "   100,000        0.574        0.014         Single chunk\n"
     ]
    },
    {
     "name": "stderr",
     "output_type": "stream",
     "text": [
      "INFO:nlsq.optimizer.trf:Starting TRF optimization (no bounds) | {'n_params': 3, 'n_residuals': 500000, 'max_nfev': None}\n"
     ]
    },
    {
     "name": "stderr",
     "output_type": "stream",
     "text": [
      "PERFORMANCE:nlsq.optimizer.trf:Optimization: iter=0 | cost=5.138772e+03 | ‖∇f‖=4.080610e+04 | nfev=1\n"
     ]
    },
    {
     "name": "stderr",
     "output_type": "stream",
     "text": [
      "PERFORMANCE:nlsq.optimizer.trf:Optimization: iter=1 | cost=6.470026e+02 | ‖∇f‖=3.300621e+03 | step=2.578759e+00 | nfev=2\n"
     ]
    },
    {
     "name": "stderr",
     "output_type": "stream",
     "text": [
      "PERFORMANCE:nlsq.optimizer.trf:Optimization: iter=2 | cost=6.256043e+02 | ‖∇f‖=1.312255e+02 | step=2.578759e+00 | nfev=3\n"
     ]
    },
    {
     "name": "stderr",
     "output_type": "stream",
     "text": [
      "PERFORMANCE:nlsq.optimizer.trf:Optimization: iter=3 | cost=6.255845e+02 | ‖∇f‖=2.715484e-02 | step=2.578759e+00 | nfev=4\n"
     ]
    },
    {
     "name": "stderr",
     "output_type": "stream",
     "text": [
      "PERFORMANCE:nlsq.least_squares:Timer: optimization took 0.410136s\n"
     ]
    },
    {
     "name": "stderr",
     "output_type": "stream",
     "text": [
      "INFO:nlsq.least_squares:Convergence: reason=`ftol` termination condition is satisfied. | iterations=None | final_cost=6.255845e+02 | time=0.410s | final_gradient_norm=3.558978001194646e-08\n"
     ]
    },
    {
     "name": "stderr",
     "output_type": "stream",
     "text": [
      "PERFORMANCE:nlsq.curve_fit:Timer: curve_fit took 0.651783s\n"
     ]
    },
    {
     "name": "stderr",
     "output_type": "stream",
     "text": [
      "INFO:nlsq.curve_fit:Curve fit completed | {'total_time': 0.6517829780004831, 'final_cost': 1251.1690277572839, 'covariance_warning': False}\n"
     ]
    },
    {
     "name": "stdout",
     "output_type": "stream",
     "text": [
      "   500,000        0.716        0.068         Single chunk\n"
     ]
    }
   ],
   "source": [
    "def compare_approaches():\n",
    "    \"\"\"Compare different fitting approaches.\"\"\"\n",
    "    print(\"\\n\" + \"=\" * 60)\n",
    "    print(\"PERFORMANCE COMPARISON\")\n",
    "    print(\"=\" * 60)\n",
    "\n",
    "    # Test different dataset sizes\n",
    "    sizes = [10_000, 100_000, 500_000]\n",
    "\n",
    "    print(f\"\\n{'Size':>10} {'Time (s)':>12} {'Memory (GB)':>12} {'Strategy':>20}\")\n",
    "    print(\"-\" * 55)\n",
    "\n",
    "    for n in sizes:\n",
    "        # Generate data\n",
    "        np.random.seed(42)\n",
    "        x = np.linspace(0, 10, n)\n",
    "        y = 2.0 * np.exp(-0.5 * x) + 0.3 + np.random.normal(0, 0.05, n)\n",
    "\n",
    "        # Get memory estimate\n",
    "        stats = estimate_memory_requirements(n, 3)\n",
    "\n",
    "        # Determine strategy\n",
    "        if stats.n_chunks == 1:\n",
    "            strategy = \"Single chunk\"\n",
    "        elif stats.requires_sampling:\n",
    "            strategy = \"Sampling\"\n",
    "        else:\n",
    "            strategy = f\"Chunked ({stats.n_chunks} chunks)\"\n",
    "\n",
    "        # Time the fit\n",
    "        start = time.time()\n",
    "        result = fit_large_dataset(\n",
    "            exponential_decay,\n",
    "            x,\n",
    "            y,\n",
    "            p0=[2.5, 0.6, 0.2],\n",
    "            memory_limit_gb=0.5,  # Small limit to test chunking\n",
    "            show_progress=False,\n",
    "        )\n",
    "        elapsed = time.time() - start\n",
    "\n",
    "        print(\n",
    "            f\"{n:10,} {elapsed:12.3f} {stats.total_memory_estimate_gb:12.3f} {strategy:>20}\"\n",
    "        )\n",
    "\n",
    "\n",
    "# Run comparison\n",
    "compare_approaches()"
   ]
  },
  {
   "cell_type": "markdown",
   "metadata": {},
   "source": [
    "## Summary and Key Takeaways\n",
    "\n",
    "NLSQ provides comprehensive support for large dataset fitting with recent improvements:\n",
    "\n",
    "1. **Automatic Memory Management**: NLSQ automatically detects available memory and chooses the best strategy\n",
    "2. **Improved Chunking Algorithm**: Advanced exponential moving average approach achieves <1% error for well-conditioned problems\n",
    "3. **JAX Tracing Compatibility**: Supports functions with up to 15+ parameters without TracerArrayConversionError\n",
    "4. **curve_fit_large Function**: Automatic dataset size detection and intelligent processing strategy selection\n",
    "5. **Sampling Strategies**: For extremely large datasets (>100M points), intelligent sampling can provide accurate results\n",
    "6. **Progress Reporting**: Long-running fits provide progress updates\n",
    "7. **Memory Estimation**: Predict memory requirements before fitting\n",
    "\n",
    "### Best Practices:\n",
    "\n",
    "- Use `curve_fit_large()` for automatic handling of both small and large datasets\n",
    "- Use `estimate_memory_requirements()` to understand dataset requirements\n",
    "- Use `fit_large_dataset()` when you need explicit control over large dataset processing\n",
    "- Set appropriate `memory_limit_gb` based on your system\n",
    "- Enable sampling for datasets >100M points\n",
    "- Use progress reporting for long-running fits\n",
    "\n",
    "### Recent Improvements (v810dc5c):\n",
    "\n",
    "- **Fixed JAX tracing issues** for functions with many parameters\n",
    "- **Enhanced chunking algorithm** with adaptive learning rates and convergence monitoring\n",
    "- **Ensured return type consistency** across all code paths\n",
    "- **Added comprehensive test coverage** for large dataset functionality"
   ]
  },
  {
   "cell_type": "code",
   "execution_count": 10,
   "metadata": {
    "execution": {
     "iopub.execute_input": "2025-10-08T19:57:48.732602Z",
     "iopub.status.busy": "2025-10-08T19:57:48.732461Z",
     "iopub.status.idle": "2025-10-08T19:57:48.735238Z",
     "shell.execute_reply": "2025-10-08T19:57:48.734930Z"
    }
   },
   "outputs": [
    {
     "name": "stdout",
     "output_type": "stream",
     "text": [
      "\n",
      "============================================================\n",
      "DEMO COMPLETED\n",
      "============================================================\n",
      "\n",
      "Key takeaways:\n",
      "• NLSQ automatically handles memory management for large datasets\n",
      "• Chunked processing works for datasets that don't fit in memory\n",
      "• curve_fit_large provides automatic dataset size detection\n",
      "• Improved chunking algorithm achieves <1% error for well-conditioned problems\n",
      "• Sampling strategies can handle extremely large datasets efficiently\n",
      "• Progress reporting helps track long-running fits\n",
      "• Memory estimation helps plan processing strategies\n"
     ]
    }
   ],
   "source": [
    "# Print final summary\n",
    "print(\"\\n\" + \"=\" * 60)\n",
    "print(\"DEMO COMPLETED\")\n",
    "print(\"=\" * 60)\n",
    "print(\"\\nKey takeaways:\")\n",
    "print(\"• NLSQ automatically handles memory management for large datasets\")\n",
    "print(\"• Chunked processing works for datasets that don't fit in memory\")\n",
    "print(\"• curve_fit_large provides automatic dataset size detection\")\n",
    "print(\"• Improved chunking algorithm achieves <1% error for well-conditioned problems\")\n",
    "print(\"• Sampling strategies can handle extremely large datasets efficiently\")\n",
    "print(\"• Progress reporting helps track long-running fits\")\n",
    "print(\"• Memory estimation helps plan processing strategies\")"
   ]
  }
 ],
 "metadata": {
  "kernelspec": {
   "display_name": "venv",
   "language": "python",
   "name": "python3"
  },
  "language_info": {
   "codemirror_mode": {
    "name": "ipython",
    "version": 3
   },
   "file_extension": ".py",
   "mimetype": "text/x-python",
   "name": "python",
   "nbconvert_exporter": "python",
   "pygments_lexer": "ipython3",
   "version": "3.12.3"
  }
 },
 "nbformat": 4,
 "nbformat_minor": 4
}
