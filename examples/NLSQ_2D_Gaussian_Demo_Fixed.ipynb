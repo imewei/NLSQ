{
 "cells": [
  {
   "cell_type": "markdown",
   "metadata": {},
   "source": [
    "# NLSQ 2D Gaussian Demo (Fixed Version)\n",
    "\n",
    "[![Open In Colab](https://colab.research.google.com/assets/colab-badge.svg)](https://colab.research.google.com/github/Dipolar-Quantum-Gases/nlsq/blob/main/examples/NLSQ_2D_Gaussian_Demo_Fixed.ipynb)\n",
    "\n",
    "This notebook demonstrates 2D Gaussian fitting with improved GPU error handling."
   ]
  },
  {
   "cell_type": "markdown",
   "metadata": {},
   "source": [
    "## Installing and Importing\n",
    "\n",
    "Make sure your runtime type is set to GPU if available (though this will work with CPU as well)."
   ]
  },
  {
   "cell_type": "code",
   "execution_count": null,
   "metadata": {},
   "outputs": [],
   "source": [
    "# Install NLSQ if not already installed\n",
    "!pip install nlsq"
   ]
  },
  {
   "cell_type": "markdown",
   "metadata": {},
   "source": [
    "## Configure Environment\n",
    "\n",
    "Set up JAX to handle GPU memory properly and avoid cuSolver errors:"
   ]
  },
  {
   "cell_type": "code",
   "execution_count": null,
   "metadata": {},
   "outputs": [],
   "source": [
    "import os\n",
    "import warnings\n",
    "\n",
    "# Configure JAX for better GPU memory handling\n",
    "os.environ['JAX_PREALLOCATE_GPU_MEMORY'] = 'false'\n",
    "os.environ['XLA_PYTHON_CLIENT_PREALLOCATE'] = 'false'\n",
    "os.environ['JAX_GPU_MEMORY_FRACTION'] = '0.8'\n",
    "\n",
    "# Optional: Force CPU if GPU issues persist\n",
    "# os.environ['JAX_PLATFORMS'] = 'cpu'\n",
    "\n",
    "print(\"Environment configured for optimal performance\")"
   ]
  },
  {
   "cell_type": "markdown",
   "metadata": {},
   "source": [
    "Import NLSQ before importing JAX since we need NLSQ to set JAX to use 64-bit precision:"
   ]
  },
  {
   "cell_type": "code",
   "execution_count": null,
   "metadata": {},
   "outputs": [],
   "source": [
    "import jax\n",
    "import jax.numpy as jnp\n",
    "from nlsq import CurveFit\n",
    "\n",
    "# Check which device we're using\n",
    "try:\n",
    "    devices = jax.devices()\n",
    "    print(f\"Available JAX devices: {devices}\")\n",
    "    print(f\"Using device: {devices[0]}\")\n",
    "except Exception as e:\n",
    "    print(f\"Device detection: {e}\")\n",
    "    print(\"Will use CPU fallback if needed\")"
   ]
  },
  {
   "cell_type": "markdown",
   "metadata": {},
   "source": [
    "## Define the 2D Gaussian Function"
   ]
  },
  {
   "cell_type": "code",
   "execution_count": null,
   "metadata": {},
   "outputs": [],
   "source": [
    "def rotate_coordinates2D(coords, theta):\n",
    "    \"\"\"Rotate 2D coordinates by angle theta.\"\"\"\n",
    "    R = jnp.array([[jnp.cos(theta), -jnp.sin(theta)], \n",
    "                   [jnp.sin(theta), jnp.cos(theta)]])\n",
    "    \n",
    "    shape = coords[0].shape\n",
    "    coords = jnp.stack([coord.flatten() for coord in coords])\n",
    "    rcoords = R @ coords\n",
    "    return [jnp.reshape(coord, shape) for coord in rcoords]\n",
    "\n",
    "\n",
    "def gaussian2d(coords, n0, x0, y0, sigma_x, sigma_y, theta, offset):\n",
    "    \"\"\"2D Gaussian function with rotation.\"\"\"\n",
    "    coords = [coords[0] - x0, coords[1] - y0]  # translate first\n",
    "    X, Y = rotate_coordinates2D(coords, theta)\n",
    "    density = n0 * jnp.exp(-0.5 * (X**2 / sigma_x**2 + Y**2 / sigma_y**2))\n",
    "    return density + offset"
   ]
  },
  {
   "cell_type": "markdown",
   "metadata": {},
   "source": [
    "## Generate Synthetic Data"
   ]
  },
  {
   "cell_type": "code",
   "execution_count": null,
   "metadata": {},
   "outputs": [],
   "source": [
    "import time\n",
    "import matplotlib.pyplot as plt\n",
    "import numpy as np\n",
    "\n",
    "\n",
    "def get_coordinates(width, height):\n",
    "    x = np.linspace(0, width - 1, width)\n",
    "    y = np.linspace(0, height - 1, height)\n",
    "    X, Y = np.meshgrid(x, y)\n",
    "    return X, Y\n",
    "\n",
    "\n",
    "def get_gaussian_parameters(length):\n",
    "    n0 = 1\n",
    "    x0 = length / 2\n",
    "    y0 = length / 2\n",
    "    sigx = length / 6\n",
    "    sigy = length / 8\n",
    "    theta = np.pi / 3\n",
    "    offset = 0.1 * n0\n",
    "    params = [n0, x0, y0, sigx, sigy, theta, offset]\n",
    "    return params\n",
    "\n",
    "\n",
    "# Start with a moderate size for testing\n",
    "length = 200  # Reduced from 500 to avoid memory issues\n",
    "XY_tuple = get_coordinates(length, length)\n",
    "\n",
    "params = get_gaussian_parameters(length)\n",
    "print(f\"True parameters: {params}\")\n",
    "\n",
    "# Generate noisy data\n",
    "zdata = gaussian2d(XY_tuple, *params)\n",
    "zdata += np.random.normal(0, 0.1, size=(length, length))\n",
    "\n",
    "# Visualize the data\n",
    "plt.figure(figsize=(8, 6))\n",
    "plt.imshow(zdata, cmap='viridis')\n",
    "plt.colorbar(label='Intensity')\n",
    "plt.title(f'2D Gaussian Data ({length}x{length})')\n",
    "plt.xlabel('X')\n",
    "plt.ylabel('Y')\n",
    "plt.show()"
   ]
  },
  {
   "cell_type": "markdown",
   "metadata": {},
   "source": [
    "## Perform Curve Fitting\n",
    "\n",
    "We'll fit the data multiple times with different random seeds to test robustness:"
   ]
  },
  {
   "cell_type": "code",
   "execution_count": null,
   "metadata": {},
   "outputs": [],
   "source": [
    "from scipy.optimize import curve_fit\n",
    "\n",
    "\n",
    "def get_random_float(low, high):\n",
    "    delta = high - low\n",
    "    return low + delta * np.random.random()\n",
    "\n",
    "\n",
    "# Flatten data for fitting\n",
    "flat_data = zdata.flatten()\n",
    "flat_XY_tuple = [coord.flatten() for coord in XY_tuple]\n",
    "\n",
    "# Initialize NLSQ CurveFit object\n",
    "jcf = CurveFit()\n",
    "\n",
    "# Perform multiple fits\n",
    "n_fits = 10  # Reduced from 100 for faster testing\n",
    "times = []\n",
    "all_results = []\n",
    "\n",
    "print(f\"Performing {n_fits} fits...\")\n",
    "\n",
    "for i in range(n_fits):\n",
    "    if i % 5 == 0:\n",
    "        print(f\"  Fit {i+1}/{n_fits}\")\n",
    "    \n",
    "    # Random seed near true values\n",
    "    seed = [val * get_random_float(0.9, 1.2) for val in params]\n",
    "    \n",
    "    try:\n",
    "        st = time.time()\n",
    "        popt, pcov = jcf.curve_fit(gaussian2d, flat_XY_tuple, flat_data, p0=seed)\n",
    "        fit_time = time.time() - st\n",
    "        \n",
    "        times.append(fit_time)\n",
    "        all_results.append(popt)\n",
    "        \n",
    "    except Exception as e:\n",
    "        print(f\"  Warning: Fit {i+1} failed: {e}\")\n",
    "        continue\n",
    "\n",
    "if times:\n",
    "    print(f\"\\nCompleted {len(times)}/{n_fits} fits successfully\")\n",
    "    print(f\"Average fit time: {np.mean(times[1:]):.3f} seconds (excluding JIT compilation)\")\n",
    "    print(f\"First fit time (includes JIT): {times[0]:.3f} seconds\")\n",
    "else:\n",
    "    print(\"No successful fits. Please check your environment.\")"
   ]
  },
  {
   "cell_type": "markdown",
   "metadata": {},
   "source": [
    "## Compare with SciPy"
   ]
  },
  {
   "cell_type": "code",
   "execution_count": null,
   "metadata": {},
   "outputs": [],
   "source": [
    "# Compare with a single SciPy fit\n",
    "if all_results:\n",
    "    print(\"Comparing NLSQ with SciPy...\")\n",
    "    \n",
    "    # Use the last seed for comparison\n",
    "    seed = [val * get_random_float(0.9, 1.2) for val in params]\n",
    "    \n",
    "    # Time SciPy\n",
    "    st = time.time()\n",
    "    popt_scipy, pcov_scipy = curve_fit(gaussian2d, flat_XY_tuple, flat_data, p0=seed)\n",
    "    scipy_time = time.time() - st\n",
    "    \n",
    "    # Get last NLSQ result\n",
    "    popt_nlsq = all_results[-1]\n",
    "    \n",
    "    print(f\"\\nFit times:\")\n",
    "    print(f\"  NLSQ (after JIT): {np.mean(times[1:]) if len(times) > 1 else times[0]:.3f} seconds\")\n",
    "    print(f\"  SciPy: {scipy_time:.3f} seconds\")\n",
    "    \n",
    "    print(f\"\\nSpeedup: {scipy_time / np.mean(times[1:]) if len(times) > 1 else scipy_time / times[0]:.1f}x\")\n",
    "    \n",
    "    print(f\"\\nParameter comparison:\")\n",
    "    print(f\"  True params:  {params}\")\n",
    "    print(f\"  NLSQ params:  {list(popt_nlsq)}\")\n",
    "    print(f\"  SciPy params: {list(popt_scipy)}\")\n",
    "    \n",
    "    # Calculate errors\n",
    "    nlsq_error = np.max(np.abs((np.array(popt_nlsq) - np.array(params)) / np.array(params))[:-1])\n",
    "    scipy_error = np.max(np.abs((np.array(popt_scipy) - np.array(params)) / np.array(params))[:-1])\n",
    "    \n",
    "    print(f\"\\nMax relative errors (excluding offset):\")\n",
    "    print(f\"  NLSQ:  {nlsq_error:.4f}\")\n",
    "    print(f\"  SciPy: {scipy_error:.4f}\")"
   ]
  },
  {
   "cell_type": "markdown",
   "metadata": {},
   "source": [
    "## Visualize Results"
   ]
  },
  {
   "cell_type": "code",
   "execution_count": null,
   "metadata": {},
   "outputs": [],
   "source": [
    "if all_results and len(times) > 1:\n",
    "    # Plot fit times\n",
    "    plt.figure(figsize=(10, 4))\n",
    "    \n",
    "    plt.subplot(1, 2, 1)\n",
    "    plt.plot(times[1:], 'b-', label='NLSQ (after JIT)')\n",
    "    plt.axhline(y=scipy_time, color='r', linestyle='--', label='SciPy')\n",
    "    plt.xlabel('Fit Number')\n",
    "    plt.ylabel('Fit Time (seconds)')\n",
    "    plt.title('Fitting Speed Comparison')\n",
    "    plt.legend()\n",
    "    plt.grid(True, alpha=0.3)\n",
    "    \n",
    "    # Plot fitted vs true data\n",
    "    plt.subplot(1, 2, 2)\n",
    "    fitted_data = gaussian2d(XY_tuple, *popt_nlsq).reshape(length, length)\n",
    "    residuals = zdata - fitted_data\n",
    "    \n",
    "    plt.imshow(residuals, cmap='RdBu', vmin=-0.3, vmax=0.3)\n",
    "    plt.colorbar(label='Residuals')\n",
    "    plt.title('Fit Residuals')\n",
    "    plt.xlabel('X')\n",
    "    plt.ylabel('Y')\n",
    "    \n",
    "    plt.tight_layout()\n",
    "    plt.show()\n",
    "    \n",
    "    print(f\"\\nResiduals RMS: {np.sqrt(np.mean(residuals**2)):.4f}\")"
   ]
  },
  {
   "cell_type": "markdown",
   "metadata": {},
   "source": [
    "## Troubleshooting\n",
    "\n",
    "If you encounter GPU errors:\n",
    "\n",
    "1. **cuSolver Errors**: The notebook now includes automatic CPU fallback\n",
    "2. **Out of Memory**: Reduce the `length` parameter or restart the runtime\n",
    "3. **Force CPU**: Uncomment the `JAX_PLATFORMS='cpu'` line in the configuration cell\n",
    "4. **Colab Specific**: Use Runtime → Restart runtime if GPU issues persist\n",
    "\n",
    "The implementation now includes:\n",
    "- Automatic GPU/CPU fallback for SVD operations\n",
    "- Better memory management\n",
    "- More robust error handling"
   ]
  }
 ],
 "metadata": {
  "kernelspec": {
   "display_name": "Python 3",
   "language": "python",
   "name": "python3"
  },
  "language_info": {
   "codemirror_mode": {
    "name": "ipython",
    "version": 3
   },
   "file_extension": ".py",
   "mimetype": "text/x-python",
   "name": "python",
   "nbconvert_exporter": "python",
   "pygments_lexer": "ipython3",
   "version": "3.8.0"
  }
 },
 "nbformat": 4,
 "nbformat_minor": 4
}